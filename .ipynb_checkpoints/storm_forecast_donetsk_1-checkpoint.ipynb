{
 "cells": [
  {
   "cell_type": "code",
   "execution_count": null,
   "metadata": {},
   "outputs": [],
   "source": [
    "\"\"\"\n",
    "select substr(telegram, 27, 2), count(*) from storm_observations where station_id=1 and substr(telegram,25,1)='1' and telegram_type ='ЩЭОЯЮ' and telegram_date >'2017-08-31' and substr(telegram,27,2) not in ('12','68','71','75') group\n",
    " by substr(telegram ,27,2) ;\n",
    "+-------------------------+----------+\n",
    "| substr(telegram, 27, 2) | count(*) |\n",
    "+-------------------------+----------+\n",
    "| 11                      |      461 | ветер\n",
    "| 30                      |      169 | низкая облачность\n",
    "| 40                      |      577 | видимость\n",
    "| 50                      |      133 | гололед\n",
    "| 51                      |        7 |\n",
    "| 52                      |       17 | налипание мокрого снега\n",
    "| 90                      |        7 | \n",
    "| 91                      |      130 | гроза\n",
    "+-------------------------+----------+\n",
    "\n",
    "select telegram_date, day_event from storm_observations where convert(substr(telegram_date ,9,2),UNSIGNED INTEGER) != day_event and station_id=1 and substr(telegram,25,1)='1'\n",
    " and substr(telegram,27,2) not in ('12','68','71','75');\n",
    "+---------------------+-----------+\n",
    "| telegram_date       | day_event |\n",
    "+---------------------+-----------+\n",
    "| 2018-02-03 21:01:00 |         5 |\n",
    "| 2018-02-03 21:01:00 |         4 |\n",
    "| 2018-02-07 21:01:00 |         8 |\n",
    "| 2018-03-01 00:14:19 |        28 |\n",
    "| 2018-03-14 00:15:30 |        13 |\n",
    "| 2018-12-21 12:23:00 |        12 |\n",
    "| 2018-12-21 12:23:00 |        12 |\n",
    "| 2018-12-21 12:23:00 |        12 |\n",
    "| 2019-01-23 03:10:00 |        12 |\n",
    "| 2019-06-11 18:20:00 |        20 |\n",
    "| 2020-02-17 05:07:00 |        18 |\n",
    "| 2020-02-27 11:52:00 |        25 |\n",
    "+---------------------+-----------+\n",
    "\n",
    "storm selecting\n",
    "select substr(telegram_date,1,10) date, floor(hour_event/3)*3 term, substr(telegram,27,2) code from storm_observations where station_id=1 and substr(telegram,25,1)='1' and telegram_type ='ЩЭОЯЮ' and telegram_date >'2017-08-31' and substr(telegram,27,2) not in ('12','68','71','75') order by telegram_date INTO OUTFILE '/var/lib/mysql-files/donetsk_storms.csv' FIELDS TERMINATED BY ';' LINES TERMINATED BY '\\n';\n",
    "\"\"\""
   ]
  },
  {
   "cell_type": "code",
   "execution_count": 35,
   "metadata": {},
   "outputs": [],
   "source": [
    "# step 1 \n",
    "import tensorflow as tf\n",
    "import numpy as np\n",
    "import pandas as pd\n",
    "from tensorflow import keras\n",
    "from tensorflow.keras import layers\n",
    "from datetime import datetime\n",
    "import time\n",
    "import matplotlib.pyplot as plt\n",
    "from tensorflow.keras.layers.experimental import preprocessing"
   ]
  },
  {
   "cell_type": "code",
   "execution_count": 82,
   "metadata": {},
   "outputs": [
    {
     "name": "stdout",
     "output_type": "stream",
     "text": [
      "            started_at  cloud_height  cloud_amount  wind_direction  \\\n",
      "0  2017-09-01 00:00:00             5             8               0   \n",
      "1  2017-09-01 03:00:00             5             8               0   \n",
      "2  2017-09-01 06:00:00             5             8               0   \n",
      "3  2017-09-01 09:00:00             5             6              25   \n",
      "4  2017-09-01 12:00:00             5             7              25   \n",
      "\n",
      "   wind_speed  temperature  temperature_dew  pressure  pressure_tendency  \\\n",
      "0           0         14.4             13.5     989.4                  7   \n",
      "1           0         14.2             13.4     989.3                  7   \n",
      "2           0         15.2             13.2     989.7                  3   \n",
      "3           2         17.7             13.2     988.9                  8   \n",
      "4           4         16.5             13.4     989.1                  3   \n",
      "\n",
      "   pressure_tendency_value  code  \n",
      "0                      1.3     0  \n",
      "1                      0.1     0  \n",
      "2                      0.4     0  \n",
      "3                      0.8     8  \n",
      "4                      0.2     8  \n"
     ]
    }
   ],
   "source": [
    "# step 2 load data\n",
    "weather = pd.read_csv('donetsk_17_21_with_storms.csv', sep=';', header=0, parse_dates=True, squeeze=True)\n",
    "print(weather.head())"
   ]
  },
  {
   "cell_type": "code",
   "execution_count": 83,
   "metadata": {},
   "outputs": [
    {
     "data": {
      "text/plain": [
       "(11360, 11)"
      ]
     },
     "execution_count": 83,
     "metadata": {},
     "output_type": "execute_result"
    }
   ],
   "source": [
    "weather.shape\n",
    "# weather.head()"
   ]
  },
  {
   "cell_type": "code",
   "execution_count": 84,
   "metadata": {},
   "outputs": [
    {
     "data": {
      "text/html": [
       "<div>\n",
       "<style scoped>\n",
       "    .dataframe tbody tr th:only-of-type {\n",
       "        vertical-align: middle;\n",
       "    }\n",
       "\n",
       "    .dataframe tbody tr th {\n",
       "        vertical-align: top;\n",
       "    }\n",
       "\n",
       "    .dataframe thead th {\n",
       "        text-align: right;\n",
       "    }\n",
       "</style>\n",
       "<table border=\"1\" class=\"dataframe\">\n",
       "  <thead>\n",
       "    <tr style=\"text-align: right;\">\n",
       "      <th></th>\n",
       "      <th>cloud_height</th>\n",
       "      <th>cloud_amount</th>\n",
       "      <th>wind_direction</th>\n",
       "      <th>wind_speed</th>\n",
       "      <th>temperature</th>\n",
       "      <th>temperature_dew</th>\n",
       "      <th>pressure</th>\n",
       "      <th>pressure_tendency</th>\n",
       "      <th>pressure_tendency_value</th>\n",
       "      <th>code</th>\n",
       "    </tr>\n",
       "  </thead>\n",
       "  <tbody>\n",
       "    <tr>\n",
       "      <th>0</th>\n",
       "      <td>5</td>\n",
       "      <td>8</td>\n",
       "      <td>0</td>\n",
       "      <td>0</td>\n",
       "      <td>14.4</td>\n",
       "      <td>13.5</td>\n",
       "      <td>989.4</td>\n",
       "      <td>7</td>\n",
       "      <td>1.3</td>\n",
       "      <td>0</td>\n",
       "    </tr>\n",
       "    <tr>\n",
       "      <th>1</th>\n",
       "      <td>5</td>\n",
       "      <td>8</td>\n",
       "      <td>0</td>\n",
       "      <td>0</td>\n",
       "      <td>14.2</td>\n",
       "      <td>13.4</td>\n",
       "      <td>989.3</td>\n",
       "      <td>7</td>\n",
       "      <td>0.1</td>\n",
       "      <td>0</td>\n",
       "    </tr>\n",
       "    <tr>\n",
       "      <th>2</th>\n",
       "      <td>5</td>\n",
       "      <td>8</td>\n",
       "      <td>0</td>\n",
       "      <td>0</td>\n",
       "      <td>15.2</td>\n",
       "      <td>13.2</td>\n",
       "      <td>989.7</td>\n",
       "      <td>3</td>\n",
       "      <td>0.4</td>\n",
       "      <td>0</td>\n",
       "    </tr>\n",
       "    <tr>\n",
       "      <th>3</th>\n",
       "      <td>5</td>\n",
       "      <td>6</td>\n",
       "      <td>25</td>\n",
       "      <td>2</td>\n",
       "      <td>17.7</td>\n",
       "      <td>13.2</td>\n",
       "      <td>988.9</td>\n",
       "      <td>8</td>\n",
       "      <td>0.8</td>\n",
       "      <td>8</td>\n",
       "    </tr>\n",
       "    <tr>\n",
       "      <th>4</th>\n",
       "      <td>5</td>\n",
       "      <td>7</td>\n",
       "      <td>25</td>\n",
       "      <td>4</td>\n",
       "      <td>16.5</td>\n",
       "      <td>13.4</td>\n",
       "      <td>989.1</td>\n",
       "      <td>3</td>\n",
       "      <td>0.2</td>\n",
       "      <td>8</td>\n",
       "    </tr>\n",
       "  </tbody>\n",
       "</table>\n",
       "</div>"
      ],
      "text/plain": [
       "   cloud_height  cloud_amount  wind_direction  wind_speed  temperature  \\\n",
       "0             5             8               0           0         14.4   \n",
       "1             5             8               0           0         14.2   \n",
       "2             5             8               0           0         15.2   \n",
       "3             5             6              25           2         17.7   \n",
       "4             5             7              25           4         16.5   \n",
       "\n",
       "   temperature_dew  pressure  pressure_tendency  pressure_tendency_value  code  \n",
       "0             13.5     989.4                  7                      1.3     0  \n",
       "1             13.4     989.3                  7                      0.1     0  \n",
       "2             13.2     989.7                  3                      0.4     0  \n",
       "3             13.2     988.9                  8                      0.8     8  \n",
       "4             13.4     989.1                  3                      0.2     8  "
      ]
     },
     "execution_count": 84,
     "metadata": {},
     "output_type": "execute_result"
    }
   ],
   "source": [
    "# weather.pop('cloud_height')\n",
    "\n",
    "date_time = pd.to_datetime(weather.pop('started_at'), format='%Y-%m-%d %H:%M:%S')\n",
    "weather.head()"
   ]
  },
  {
   "cell_type": "code",
   "execution_count": 23,
   "metadata": {},
   "outputs": [
    {
     "data": {
      "image/png": "[encoded data removed]",
      "text/plain": [
       "<Figure size 432x288 with 3 Axes>"
      ]
     },
     "metadata": {
      "needs_background": "light"
     },
     "output_type": "display_data"
    },
    {
     "data": {
      "image/png": "[encoded data removed]",
      "text/plain": [
       "<Figure size 432x288 with 3 Axes>"
      ]
     },
     "metadata": {
      "needs_background": "light"
     },
     "output_type": "display_data"
    }
   ],
   "source": [
    "plot_cols = ['temperature', 'pressure', 'temperature_dew']\n",
    "plot_features = weather[plot_cols]\n",
    "plot_features.index = date_time\n",
    "_ = plot_features.plot(subplots=True)\n",
    "\n",
    "plot_features = weather[plot_cols][:240]\n",
    "plot_features.index = date_time[:240]\n",
    "_ = plot_features.plot(subplots=True)"
   ]
  },
  {
   "cell_type": "code",
   "execution_count": 85,
   "metadata": {},
   "outputs": [
    {
     "data": {
      "text/html": [
       "<div>\n",
       "<style scoped>\n",
       "    .dataframe tbody tr th:only-of-type {\n",
       "        vertical-align: middle;\n",
       "    }\n",
       "\n",
       "    .dataframe tbody tr th {\n",
       "        vertical-align: top;\n",
       "    }\n",
       "\n",
       "    .dataframe thead th {\n",
       "        text-align: right;\n",
       "    }\n",
       "</style>\n",
       "<table border=\"1\" class=\"dataframe\">\n",
       "  <thead>\n",
       "    <tr style=\"text-align: right;\">\n",
       "      <th></th>\n",
       "      <th>count</th>\n",
       "      <th>mean</th>\n",
       "      <th>std</th>\n",
       "      <th>min</th>\n",
       "      <th>25%</th>\n",
       "      <th>50%</th>\n",
       "      <th>75%</th>\n",
       "      <th>max</th>\n",
       "    </tr>\n",
       "  </thead>\n",
       "  <tbody>\n",
       "    <tr>\n",
       "      <th>cloud_height</th>\n",
       "      <td>11360.0</td>\n",
       "      <td>6.929049</td>\n",
       "      <td>2.159598</td>\n",
       "      <td>2.0</td>\n",
       "      <td>5.0</td>\n",
       "      <td>6.0</td>\n",
       "      <td>9.0</td>\n",
       "      <td>10.0</td>\n",
       "    </tr>\n",
       "    <tr>\n",
       "      <th>cloud_amount</th>\n",
       "      <td>11360.0</td>\n",
       "      <td>4.674912</td>\n",
       "      <td>3.246734</td>\n",
       "      <td>0.0</td>\n",
       "      <td>0.0</td>\n",
       "      <td>6.0</td>\n",
       "      <td>8.0</td>\n",
       "      <td>9.0</td>\n",
       "    </tr>\n",
       "    <tr>\n",
       "      <th>wind_direction</th>\n",
       "      <td>11360.0</td>\n",
       "      <td>137.132923</td>\n",
       "      <td>117.341025</td>\n",
       "      <td>0.0</td>\n",
       "      <td>20.0</td>\n",
       "      <td>110.0</td>\n",
       "      <td>250.0</td>\n",
       "      <td>360.0</td>\n",
       "    </tr>\n",
       "    <tr>\n",
       "      <th>wind_speed</th>\n",
       "      <td>11360.0</td>\n",
       "      <td>2.798063</td>\n",
       "      <td>2.216409</td>\n",
       "      <td>0.0</td>\n",
       "      <td>2.0</td>\n",
       "      <td>2.0</td>\n",
       "      <td>4.0</td>\n",
       "      <td>16.0</td>\n",
       "    </tr>\n",
       "    <tr>\n",
       "      <th>temperature</th>\n",
       "      <td>11360.0</td>\n",
       "      <td>10.705150</td>\n",
       "      <td>10.880943</td>\n",
       "      <td>-20.8</td>\n",
       "      <td>1.2</td>\n",
       "      <td>10.3</td>\n",
       "      <td>19.7</td>\n",
       "      <td>37.8</td>\n",
       "    </tr>\n",
       "    <tr>\n",
       "      <th>temperature_dew</th>\n",
       "      <td>11360.0</td>\n",
       "      <td>4.112782</td>\n",
       "      <td>7.817085</td>\n",
       "      <td>-22.0</td>\n",
       "      <td>-1.5</td>\n",
       "      <td>4.2</td>\n",
       "      <td>10.4</td>\n",
       "      <td>21.5</td>\n",
       "    </tr>\n",
       "    <tr>\n",
       "      <th>pressure</th>\n",
       "      <td>11360.0</td>\n",
       "      <td>992.652729</td>\n",
       "      <td>7.295076</td>\n",
       "      <td>964.2</td>\n",
       "      <td>987.9</td>\n",
       "      <td>992.0</td>\n",
       "      <td>997.5</td>\n",
       "      <td>1015.3</td>\n",
       "    </tr>\n",
       "    <tr>\n",
       "      <th>pressure_tendency</th>\n",
       "      <td>11360.0</td>\n",
       "      <td>4.805722</td>\n",
       "      <td>2.476551</td>\n",
       "      <td>1.0</td>\n",
       "      <td>2.0</td>\n",
       "      <td>4.0</td>\n",
       "      <td>7.0</td>\n",
       "      <td>8.0</td>\n",
       "    </tr>\n",
       "    <tr>\n",
       "      <th>pressure_tendency_value</th>\n",
       "      <td>11360.0</td>\n",
       "      <td>0.735211</td>\n",
       "      <td>0.648641</td>\n",
       "      <td>0.0</td>\n",
       "      <td>0.3</td>\n",
       "      <td>0.6</td>\n",
       "      <td>1.0</td>\n",
       "      <td>7.1</td>\n",
       "    </tr>\n",
       "    <tr>\n",
       "      <th>code</th>\n",
       "      <td>11360.0</td>\n",
       "      <td>0.269366</td>\n",
       "      <td>1.041262</td>\n",
       "      <td>0.0</td>\n",
       "      <td>0.0</td>\n",
       "      <td>0.0</td>\n",
       "      <td>0.0</td>\n",
       "      <td>8.0</td>\n",
       "    </tr>\n",
       "  </tbody>\n",
       "</table>\n",
       "</div>"
      ],
      "text/plain": [
       "                           count        mean         std    min    25%    50%  \\\n",
       "cloud_height             11360.0    6.929049    2.159598    2.0    5.0    6.0   \n",
       "cloud_amount             11360.0    4.674912    3.246734    0.0    0.0    6.0   \n",
       "wind_direction           11360.0  137.132923  117.341025    0.0   20.0  110.0   \n",
       "wind_speed               11360.0    2.798063    2.216409    0.0    2.0    2.0   \n",
       "temperature              11360.0   10.705150   10.880943  -20.8    1.2   10.3   \n",
       "temperature_dew          11360.0    4.112782    7.817085  -22.0   -1.5    4.2   \n",
       "pressure                 11360.0  992.652729    7.295076  964.2  987.9  992.0   \n",
       "pressure_tendency        11360.0    4.805722    2.476551    1.0    2.0    4.0   \n",
       "pressure_tendency_value  11360.0    0.735211    0.648641    0.0    0.3    0.6   \n",
       "code                     11360.0    0.269366    1.041262    0.0    0.0    0.0   \n",
       "\n",
       "                           75%     max  \n",
       "cloud_height               9.0    10.0  \n",
       "cloud_amount               8.0     9.0  \n",
       "wind_direction           250.0   360.0  \n",
       "wind_speed                 4.0    16.0  \n",
       "temperature               19.7    37.8  \n",
       "temperature_dew           10.4    21.5  \n",
       "pressure                 997.5  1015.3  \n",
       "pressure_tendency          7.0     8.0  \n",
       "pressure_tendency_value    1.0     7.1  \n",
       "code                       0.0     8.0  "
      ]
     },
     "execution_count": 85,
     "metadata": {},
     "output_type": "execute_result"
    }
   ],
   "source": [
    "weather['wind_direction'] = weather['wind_direction']*10\n",
    "weather.describe().transpose()"
   ]
  },
  {
   "cell_type": "code",
   "execution_count": 86,
   "metadata": {},
   "outputs": [],
   "source": [
    "wv = weather.pop('wind_speed')\n",
    "\n",
    "# Convert to radians.\n",
    "wd_rad = weather.pop('wind_direction')*np.pi / 180\n",
    "\n",
    "# Calculate the wind x and y components.\n",
    "weather['Wx'] = wv*np.cos(wd_rad)\n",
    "weather['Wy'] = wv*np.sin(wd_rad)"
   ]
  },
  {
   "cell_type": "code",
   "execution_count": 87,
   "metadata": {},
   "outputs": [
    {
     "data": {
      "text/plain": [
       "(-10.0, 10.0, -10.0, 16.0)"
      ]
     },
     "execution_count": 87,
     "metadata": {},
     "output_type": "execute_result"
    },
    {
     "data": {
      "image/png": "[encoded data removed]",
      "text/plain": [
       "<Figure size 432x288 with 2 Axes>"
      ]
     },
     "metadata": {
      "needs_background": "light"
     },
     "output_type": "display_data"
    }
   ],
   "source": [
    "plt.hist2d(weather['Wx'], weather['Wy'], bins=(50, 50), vmax=400)\n",
    "plt.colorbar()\n",
    "plt.xlabel('Wind X [m/s]')\n",
    "plt.ylabel('Wind Y [m/s]')\n",
    "ax = plt.gca()\n",
    "ax.axis('tight')"
   ]
  },
  {
   "cell_type": "code",
   "execution_count": 88,
   "metadata": {},
   "outputs": [],
   "source": [
    "timestamp_s = date_time.map(pd.Timestamp.timestamp)"
   ]
  },
  {
   "cell_type": "code",
   "execution_count": 89,
   "metadata": {},
   "outputs": [],
   "source": [
    "day = 24*60*60\n",
    "year = (365.2425)*day\n",
    "\n",
    "weather['Day sin'] = np.sin(timestamp_s * (2 * np.pi / day))\n",
    "weather['Day cos'] = np.cos(timestamp_s * (2 * np.pi / day))\n",
    "weather['Year sin'] = np.sin(timestamp_s * (2 * np.pi / year))\n",
    "weather['Year cos'] = np.cos(timestamp_s * (2 * np.pi / year))"
   ]
  },
  {
   "cell_type": "code",
   "execution_count": 90,
   "metadata": {},
   "outputs": [
    {
     "data": {
      "text/plain": [
       "Text(0.5, 1.0, 'Time of day signal')"
      ]
     },
     "execution_count": 90,
     "metadata": {},
     "output_type": "execute_result"
    },
    {
     "data": {
      "image/png": "[encoded data removed]",
      "text/plain": [
       "<Figure size 432x288 with 1 Axes>"
      ]
     },
     "metadata": {
      "needs_background": "light"
     },
     "output_type": "display_data"
    }
   ],
   "source": [
    "plt.plot(np.array(weather['Day sin'])[:8])\n",
    "plt.plot(np.array(weather['Day cos'])[:8])\n",
    "plt.xlabel('Time [h]')\n",
    "plt.title('Time of day signal')"
   ]
  },
  {
   "cell_type": "code",
   "execution_count": 91,
   "metadata": {},
   "outputs": [
    {
     "data": {
      "text/html": [
       "<div>\n",
       "<style scoped>\n",
       "    .dataframe tbody tr th:only-of-type {\n",
       "        vertical-align: middle;\n",
       "    }\n",
       "\n",
       "    .dataframe tbody tr th {\n",
       "        vertical-align: top;\n",
       "    }\n",
       "\n",
       "    .dataframe thead th {\n",
       "        text-align: right;\n",
       "    }\n",
       "</style>\n",
       "<table border=\"1\" class=\"dataframe\">\n",
       "  <thead>\n",
       "    <tr style=\"text-align: right;\">\n",
       "      <th></th>\n",
       "      <th>cloud_height</th>\n",
       "      <th>cloud_amount</th>\n",
       "      <th>temperature</th>\n",
       "      <th>temperature_dew</th>\n",
       "      <th>pressure</th>\n",
       "      <th>pressure_tendency</th>\n",
       "      <th>pressure_tendency_value</th>\n",
       "      <th>Wx</th>\n",
       "      <th>Wy</th>\n",
       "      <th>Day sin</th>\n",
       "      <th>Day cos</th>\n",
       "      <th>Year sin</th>\n",
       "      <th>Year cos</th>\n",
       "    </tr>\n",
       "  </thead>\n",
       "  <tbody>\n",
       "    <tr>\n",
       "      <th>382</th>\n",
       "      <td>9</td>\n",
       "      <td>0</td>\n",
       "      <td>12.5</td>\n",
       "      <td>9.8</td>\n",
       "      <td>997.2</td>\n",
       "      <td>7</td>\n",
       "      <td>0.2</td>\n",
       "      <td>-1.285575</td>\n",
       "      <td>-1.532089</td>\n",
       "      <td>-1.000000</td>\n",
       "      <td>-1.232814e-11</td>\n",
       "      <td>-0.955430</td>\n",
       "      <td>0.295217</td>\n",
       "    </tr>\n",
       "    <tr>\n",
       "      <th>6574</th>\n",
       "      <td>5</td>\n",
       "      <td>6</td>\n",
       "      <td>-1.5</td>\n",
       "      <td>-5.2</td>\n",
       "      <td>996.3</td>\n",
       "      <td>2</td>\n",
       "      <td>2.6</td>\n",
       "      <td>3.064178</td>\n",
       "      <td>-2.571150</td>\n",
       "      <td>-1.000000</td>\n",
       "      <td>-3.095920e-12</td>\n",
       "      <td>-0.499078</td>\n",
       "      <td>0.866557</td>\n",
       "    </tr>\n",
       "    <tr>\n",
       "      <th>4713</th>\n",
       "      <td>4</td>\n",
       "      <td>8</td>\n",
       "      <td>10.6</td>\n",
       "      <td>9.0</td>\n",
       "      <td>987.8</td>\n",
       "      <td>7</td>\n",
       "      <td>0.1</td>\n",
       "      <td>0.000000</td>\n",
       "      <td>0.000000</td>\n",
       "      <td>0.707107</td>\n",
       "      <td>7.071068e-01</td>\n",
       "      <td>0.982369</td>\n",
       "      <td>-0.186952</td>\n",
       "    </tr>\n",
       "    <tr>\n",
       "      <th>2154</th>\n",
       "      <td>9</td>\n",
       "      <td>0</td>\n",
       "      <td>19.9</td>\n",
       "      <td>4.1</td>\n",
       "      <td>999.1</td>\n",
       "      <td>3</td>\n",
       "      <td>0.8</td>\n",
       "      <td>2.571150</td>\n",
       "      <td>3.064178</td>\n",
       "      <td>1.000000</td>\n",
       "      <td>-1.199631e-12</td>\n",
       "      <td>0.566532</td>\n",
       "      <td>-0.824040</td>\n",
       "    </tr>\n",
       "    <tr>\n",
       "      <th>7107</th>\n",
       "      <td>3</td>\n",
       "      <td>8</td>\n",
       "      <td>-2.1</td>\n",
       "      <td>-1.6</td>\n",
       "      <td>983.5</td>\n",
       "      <td>4</td>\n",
       "      <td>0.0</td>\n",
       "      <td>2.052121</td>\n",
       "      <td>5.638156</td>\n",
       "      <td>0.707107</td>\n",
       "      <td>-7.071068e-01</td>\n",
       "      <td>0.583962</td>\n",
       "      <td>0.811781</td>\n",
       "    </tr>\n",
       "  </tbody>\n",
       "</table>\n",
       "</div>"
      ],
      "text/plain": [
       "      cloud_height  cloud_amount  temperature  temperature_dew  pressure  \\\n",
       "382              9             0         12.5              9.8     997.2   \n",
       "6574             5             6         -1.5             -5.2     996.3   \n",
       "4713             4             8         10.6              9.0     987.8   \n",
       "2154             9             0         19.9              4.1     999.1   \n",
       "7107             3             8         -2.1             -1.6     983.5   \n",
       "\n",
       "      pressure_tendency  pressure_tendency_value        Wx        Wy  \\\n",
       "382                   7                      0.2 -1.285575 -1.532089   \n",
       "6574                  2                      2.6  3.064178 -2.571150   \n",
       "4713                  7                      0.1  0.000000  0.000000   \n",
       "2154                  3                      0.8  2.571150  3.064178   \n",
       "7107                  4                      0.0  2.052121  5.638156   \n",
       "\n",
       "       Day sin       Day cos  Year sin  Year cos  \n",
       "382  -1.000000 -1.232814e-11 -0.955430  0.295217  \n",
       "6574 -1.000000 -3.095920e-12 -0.499078  0.866557  \n",
       "4713  0.707107  7.071068e-01  0.982369 -0.186952  \n",
       "2154  1.000000 -1.199631e-12  0.566532 -0.824040  \n",
       "7107  0.707107 -7.071068e-01  0.583962  0.811781  "
      ]
     },
     "execution_count": 91,
     "metadata": {},
     "output_type": "execute_result"
    }
   ],
   "source": [
    "train_dataset = weather.sample(frac=0.8, random_state=0)\n",
    "test_dataset = weather.drop(train_dataset.index)\n",
    "train_features = train_dataset.copy()\n",
    "test_features = test_dataset.copy()\n",
    "\n",
    "train_labels = train_features.pop('code')\n",
    "test_labels = test_features.pop('code')\n",
    "train_features.head()"
   ]
  },
  {
   "cell_type": "code",
   "execution_count": 92,
   "metadata": {},
   "outputs": [
    {
     "data": {
      "text/html": [
       "<div>\n",
       "<style scoped>\n",
       "    .dataframe tbody tr th:only-of-type {\n",
       "        vertical-align: middle;\n",
       "    }\n",
       "\n",
       "    .dataframe tbody tr th {\n",
       "        vertical-align: top;\n",
       "    }\n",
       "\n",
       "    .dataframe thead th {\n",
       "        text-align: right;\n",
       "    }\n",
       "</style>\n",
       "<table border=\"1\" class=\"dataframe\">\n",
       "  <thead>\n",
       "    <tr style=\"text-align: right;\">\n",
       "      <th></th>\n",
       "      <th>count</th>\n",
       "      <th>mean</th>\n",
       "      <th>std</th>\n",
       "      <th>min</th>\n",
       "      <th>25%</th>\n",
       "      <th>50%</th>\n",
       "      <th>75%</th>\n",
       "      <th>max</th>\n",
       "    </tr>\n",
       "  </thead>\n",
       "  <tbody>\n",
       "    <tr>\n",
       "      <th>cloud_height</th>\n",
       "      <td>9088.0</td>\n",
       "      <td>6.924516</td>\n",
       "      <td>2.165239</td>\n",
       "      <td>2.000000</td>\n",
       "      <td>5.000000</td>\n",
       "      <td>6.000000e+00</td>\n",
       "      <td>9.000000</td>\n",
       "      <td>10.0</td>\n",
       "    </tr>\n",
       "    <tr>\n",
       "      <th>cloud_amount</th>\n",
       "      <td>9088.0</td>\n",
       "      <td>4.700924</td>\n",
       "      <td>3.243283</td>\n",
       "      <td>0.000000</td>\n",
       "      <td>0.000000</td>\n",
       "      <td>6.000000e+00</td>\n",
       "      <td>8.000000</td>\n",
       "      <td>9.0</td>\n",
       "    </tr>\n",
       "    <tr>\n",
       "      <th>temperature</th>\n",
       "      <td>9088.0</td>\n",
       "      <td>10.663512</td>\n",
       "      <td>10.894242</td>\n",
       "      <td>-20.800000</td>\n",
       "      <td>1.200000</td>\n",
       "      <td>1.010000e+01</td>\n",
       "      <td>19.700000</td>\n",
       "      <td>37.8</td>\n",
       "    </tr>\n",
       "    <tr>\n",
       "      <th>temperature_dew</th>\n",
       "      <td>9088.0</td>\n",
       "      <td>4.085002</td>\n",
       "      <td>7.816982</td>\n",
       "      <td>-22.000000</td>\n",
       "      <td>-1.500000</td>\n",
       "      <td>4.200000e+00</td>\n",
       "      <td>10.300000</td>\n",
       "      <td>20.4</td>\n",
       "    </tr>\n",
       "    <tr>\n",
       "      <th>pressure</th>\n",
       "      <td>9088.0</td>\n",
       "      <td>992.605942</td>\n",
       "      <td>7.286574</td>\n",
       "      <td>964.200000</td>\n",
       "      <td>987.800000</td>\n",
       "      <td>9.920000e+02</td>\n",
       "      <td>997.500000</td>\n",
       "      <td>1015.3</td>\n",
       "    </tr>\n",
       "    <tr>\n",
       "      <th>pressure_tendency</th>\n",
       "      <td>9088.0</td>\n",
       "      <td>4.817121</td>\n",
       "      <td>2.479764</td>\n",
       "      <td>1.000000</td>\n",
       "      <td>2.000000</td>\n",
       "      <td>4.000000e+00</td>\n",
       "      <td>7.000000</td>\n",
       "      <td>8.0</td>\n",
       "    </tr>\n",
       "    <tr>\n",
       "      <th>pressure_tendency_value</th>\n",
       "      <td>9088.0</td>\n",
       "      <td>0.739382</td>\n",
       "      <td>0.652593</td>\n",
       "      <td>0.000000</td>\n",
       "      <td>0.300000</td>\n",
       "      <td>6.000000e-01</td>\n",
       "      <td>1.000000</td>\n",
       "      <td>7.1</td>\n",
       "    </tr>\n",
       "    <tr>\n",
       "      <th>Wx</th>\n",
       "      <td>9088.0</td>\n",
       "      <td>-0.004993</td>\n",
       "      <td>2.127818</td>\n",
       "      <td>-10.000000</td>\n",
       "      <td>-1.285575</td>\n",
       "      <td>0.000000e+00</td>\n",
       "      <td>1.285575</td>\n",
       "      <td>10.0</td>\n",
       "    </tr>\n",
       "    <tr>\n",
       "      <th>Wy</th>\n",
       "      <td>9088.0</td>\n",
       "      <td>0.474046</td>\n",
       "      <td>2.840136</td>\n",
       "      <td>-10.000000</td>\n",
       "      <td>-0.684040</td>\n",
       "      <td>0.000000e+00</td>\n",
       "      <td>1.879385</td>\n",
       "      <td>16.0</td>\n",
       "    </tr>\n",
       "    <tr>\n",
       "      <th>Day sin</th>\n",
       "      <td>9088.0</td>\n",
       "      <td>-0.000285</td>\n",
       "      <td>0.706523</td>\n",
       "      <td>-1.000000</td>\n",
       "      <td>-0.707107</td>\n",
       "      <td>-3.969651e-14</td>\n",
       "      <td>0.707107</td>\n",
       "      <td>1.0</td>\n",
       "    </tr>\n",
       "    <tr>\n",
       "      <th>Day cos</th>\n",
       "      <td>9088.0</td>\n",
       "      <td>0.004577</td>\n",
       "      <td>0.707753</td>\n",
       "      <td>-1.000000</td>\n",
       "      <td>-0.707107</td>\n",
       "      <td>2.552888e-13</td>\n",
       "      <td>0.707107</td>\n",
       "      <td>1.0</td>\n",
       "    </tr>\n",
       "    <tr>\n",
       "      <th>Year sin</th>\n",
       "      <td>9088.0</td>\n",
       "      <td>0.019759</td>\n",
       "      <td>0.707594</td>\n",
       "      <td>-0.999999</td>\n",
       "      <td>-0.694405</td>\n",
       "      <td>4.494861e-02</td>\n",
       "      <td>0.723240</td>\n",
       "      <td>1.0</td>\n",
       "    </tr>\n",
       "    <tr>\n",
       "      <th>Year cos</th>\n",
       "      <td>9088.0</td>\n",
       "      <td>0.023326</td>\n",
       "      <td>0.706035</td>\n",
       "      <td>-1.000000</td>\n",
       "      <td>-0.676903</td>\n",
       "      <td>4.403562e-02</td>\n",
       "      <td>0.728339</td>\n",
       "      <td>1.0</td>\n",
       "    </tr>\n",
       "  </tbody>\n",
       "</table>\n",
       "</div>"
      ],
      "text/plain": [
       "                          count        mean        std         min  \\\n",
       "cloud_height             9088.0    6.924516   2.165239    2.000000   \n",
       "cloud_amount             9088.0    4.700924   3.243283    0.000000   \n",
       "temperature              9088.0   10.663512  10.894242  -20.800000   \n",
       "temperature_dew          9088.0    4.085002   7.816982  -22.000000   \n",
       "pressure                 9088.0  992.605942   7.286574  964.200000   \n",
       "pressure_tendency        9088.0    4.817121   2.479764    1.000000   \n",
       "pressure_tendency_value  9088.0    0.739382   0.652593    0.000000   \n",
       "Wx                       9088.0   -0.004993   2.127818  -10.000000   \n",
       "Wy                       9088.0    0.474046   2.840136  -10.000000   \n",
       "Day sin                  9088.0   -0.000285   0.706523   -1.000000   \n",
       "Day cos                  9088.0    0.004577   0.707753   -1.000000   \n",
       "Year sin                 9088.0    0.019759   0.707594   -0.999999   \n",
       "Year cos                 9088.0    0.023326   0.706035   -1.000000   \n",
       "\n",
       "                                25%           50%         75%     max  \n",
       "cloud_height               5.000000  6.000000e+00    9.000000    10.0  \n",
       "cloud_amount               0.000000  6.000000e+00    8.000000     9.0  \n",
       "temperature                1.200000  1.010000e+01   19.700000    37.8  \n",
       "temperature_dew           -1.500000  4.200000e+00   10.300000    20.4  \n",
       "pressure                 987.800000  9.920000e+02  997.500000  1015.3  \n",
       "pressure_tendency          2.000000  4.000000e+00    7.000000     8.0  \n",
       "pressure_tendency_value    0.300000  6.000000e-01    1.000000     7.1  \n",
       "Wx                        -1.285575  0.000000e+00    1.285575    10.0  \n",
       "Wy                        -0.684040  0.000000e+00    1.879385    16.0  \n",
       "Day sin                   -0.707107 -3.969651e-14    0.707107     1.0  \n",
       "Day cos                   -0.707107  2.552888e-13    0.707107     1.0  \n",
       "Year sin                  -0.694405  4.494861e-02    0.723240     1.0  \n",
       "Year cos                  -0.676903  4.403562e-02    0.728339     1.0  "
      ]
     },
     "execution_count": 92,
     "metadata": {},
     "output_type": "execute_result"
    }
   ],
   "source": [
    "train_features.describe().transpose()"
   ]
  },
  {
   "cell_type": "code",
   "execution_count": 93,
   "metadata": {},
   "outputs": [],
   "source": [
    "normalizer = preprocessing.Normalization(axis=-1)"
   ]
  },
  {
   "cell_type": "code",
   "execution_count": 94,
   "metadata": {},
   "outputs": [],
   "source": [
    "normalizer.adapt(np.array(train_features))"
   ]
  },
  {
   "cell_type": "code",
   "execution_count": 95,
   "metadata": {},
   "outputs": [
    {
     "name": "stdout",
     "output_type": "stream",
     "text": [
      "[ 6.9245157e+00  4.7009244e+00  1.0663512e+01  4.0850024e+00\n",
      "  9.9260596e+02  4.8171215e+00  7.3938161e-01 -4.9930285e-03\n",
      "  4.7404632e-01 -2.8452754e-04  4.5772423e-03  1.9758517e-02\n",
      "  2.3326337e-02]\n"
     ]
    }
   ],
   "source": [
    "print(normalizer.mean.numpy())"
   ]
  },
  {
   "cell_type": "code",
   "execution_count": 96,
   "metadata": {},
   "outputs": [
    {
     "name": "stdout",
     "output_type": "stream",
     "text": [
      "First example: [[  9.     0.    12.5    9.8  997.2    7.     0.2   -1.29  -1.53  -1.\n",
      "   -0.    -0.96   0.3 ]]\n",
      "\n",
      "Normalized: [[ 0.96 -1.45  0.17  0.73  0.63  0.88 -0.83 -0.6  -0.71 -1.42 -0.01 -1.38\n",
      "   0.39]]\n"
     ]
    }
   ],
   "source": [
    "first = np.array(train_features[:1])\n",
    "\n",
    "with np.printoptions(precision=2, suppress=True):\n",
    "  print('First example:', first)\n",
    "  print()\n",
    "  print('Normalized:', normalizer(first).numpy())"
   ]
  },
  {
   "cell_type": "code",
   "execution_count": 97,
   "metadata": {},
   "outputs": [],
   "source": [
    "# A DNN regression\n",
    "def build_and_compile_model(norm):\n",
    "  model = keras.Sequential([\n",
    "      norm,\n",
    "#       layers.Dense(64, activation='relu'),\n",
    "      layers.Dense(256, activation=\"relu\"),\n",
    "      layers.Dropout(0.4),\n",
    "      layers.Dense(64, activation='relu'),\n",
    "      \n",
    "#       layers.Dense(1)\n",
    "      layers.Dense(9, activation=\"softmax\")\n",
    "  ])\n",
    "\n",
    "  model.compile(loss='mean_absolute_error',\n",
    "                optimizer=tf.keras.optimizers.Adam(0.001))\n",
    "  return model"
   ]
  },
  {
   "cell_type": "code",
   "execution_count": 98,
   "metadata": {},
   "outputs": [
    {
     "name": "stdout",
     "output_type": "stream",
     "text": [
      "Model: \"sequential_3\"\n",
      "_________________________________________________________________\n",
      "Layer (type)                 Output Shape              Param #   \n",
      "=================================================================\n",
      "normalization_1 (Normalizati (None, 13)                27        \n",
      "_________________________________________________________________\n",
      "dense_9 (Dense)              (None, 256)               3584      \n",
      "_________________________________________________________________\n",
      "dropout_2 (Dropout)          (None, 256)               0         \n",
      "_________________________________________________________________\n",
      "dense_10 (Dense)             (None, 64)                16448     \n",
      "_________________________________________________________________\n",
      "dense_11 (Dense)             (None, 9)                 585       \n",
      "=================================================================\n",
      "Total params: 20,644\n",
      "Trainable params: 20,617\n",
      "Non-trainable params: 27\n",
      "_________________________________________________________________\n"
     ]
    }
   ],
   "source": [
    "dnn_model = build_and_compile_model(normalizer)\n",
    "dnn_model.summary()"
   ]
  },
  {
   "cell_type": "code",
   "execution_count": 99,
   "metadata": {},
   "outputs": [
    {
     "name": "stdout",
     "output_type": "stream",
     "text": [
      "CPU times: user 1min 10s, sys: 3.35 s, total: 1min 14s\n",
      "Wall time: 56.6 s\n"
     ]
    }
   ],
   "source": [
    "%%time\n",
    "history = dnn_model.fit(\n",
    "    train_features, train_labels,\n",
    "    validation_split=0.2,\n",
    "    verbose=0, epochs=100)"
   ]
  },
  {
   "cell_type": "code",
   "execution_count": 100,
   "metadata": {},
   "outputs": [],
   "source": [
    "def plot_loss(history):\n",
    "  plt.plot(history.history['loss'], label='loss')\n",
    "  plt.plot(history.history['val_loss'], label='val_loss')\n",
    "  plt.ylim([0, 10])\n",
    "  plt.xlabel('Epoch')\n",
    "  plt.ylabel('Error')\n",
    "  plt.legend()\n",
    "  plt.grid(True)"
   ]
  },
  {
   "cell_type": "code",
   "execution_count": 101,
   "metadata": {},
   "outputs": [
    {
     "data": {
      "image/png": "[encoded data removed]",
      "text/plain": [
       "<Figure size 432x288 with 1 Axes>"
      ]
     },
     "metadata": {
      "needs_background": "light"
     },
     "output_type": "display_data"
    }
   ],
   "source": [
    "plot_loss(history)"
   ]
  },
  {
   "cell_type": "code",
   "execution_count": 102,
   "metadata": {},
   "outputs": [],
   "source": [
    "test_results = {}\n",
    "test_results['dnn_model'] = dnn_model.evaluate(test_features, test_labels, verbose=0)"
   ]
  },
  {
   "cell_type": "code",
   "execution_count": 103,
   "metadata": {},
   "outputs": [
    {
     "name": "stdout",
     "output_type": "stream",
     "text": [
      "INFO:tensorflow:Assets written to: storm_dnn_model_2/assets\n"
     ]
    },
    {
     "data": {
      "text/html": [
       "<div>\n",
       "<style scoped>\n",
       "    .dataframe tbody tr th:only-of-type {\n",
       "        vertical-align: middle;\n",
       "    }\n",
       "\n",
       "    .dataframe tbody tr th {\n",
       "        vertical-align: top;\n",
       "    }\n",
       "\n",
       "    .dataframe thead th {\n",
       "        text-align: right;\n",
       "    }\n",
       "</style>\n",
       "<table border=\"1\" class=\"dataframe\">\n",
       "  <thead>\n",
       "    <tr style=\"text-align: right;\">\n",
       "      <th></th>\n",
       "      <th>Mean absolute error [storm]</th>\n",
       "    </tr>\n",
       "  </thead>\n",
       "  <tbody>\n",
       "    <tr>\n",
       "      <th>dnn_model</th>\n",
       "      <td>0.391676</td>\n",
       "    </tr>\n",
       "  </tbody>\n",
       "</table>\n",
       "</div>"
      ],
      "text/plain": [
       "           Mean absolute error [storm]\n",
       "dnn_model                     0.391676"
      ]
     },
     "execution_count": 103,
     "metadata": {},
     "output_type": "execute_result"
    }
   ],
   "source": [
    "dnn_model.save('storm_dnn_model_2')\n",
    "pd.DataFrame(test_results, index=['Mean absolute error [storm]']).T"
   ]
  },
  {
   "cell_type": "code",
   "execution_count": 105,
   "metadata": {},
   "outputs": [
    {
     "name": "stdout",
     "output_type": "stream",
     "text": [
      "WARNING:tensorflow:8 out of the last 78 calls to <function Model.make_predict_function.<locals>.predict_function at 0x7f0a180cc950> triggered tf.function retracing. Tracing is expensive and the excessive number of tracings could be due to (1) creating @tf.function repeatedly in a loop, (2) passing tensors with different shapes, (3) passing Python objects instead of tensors. For (1), please define your @tf.function outside of the loop. For (2), @tf.function has experimental_relax_shapes=True option that relaxes argument shapes that can avoid unnecessary retracing. For (3), please refer to https://www.tensorflow.org/tutorials/customization/performance#python_or_tensor_args and https://www.tensorflow.org/api_docs/python/tf/function for  more details.\n"
     ]
    }
   ],
   "source": [
    "def prepare_data(date_term, telegram, model_name):\n",
    "  ret = []\n",
    "#   if model_name != 'improve_dnn_model_3':\n",
    "#       ret.append(float(telegram[14:15]+'.')) # cloud_height\n",
    "#       ret.append(int(telegram[16:17])) # visibility_range\n",
    "  ret.append(int(telegram[14:15])) # cloud_height\n",
    "  ret.append(int(telegram[18:19])) # cloud_amount\n",
    "  sign = ''\n",
    "  if telegram[25:26] == '1':\n",
    "    sign = '-'\n",
    "  ret.append(float(sign+telegram[26:28]+'.'+telegram[28:29]))# temperature\n",
    "  sign = ''\n",
    "  if telegram[31:32] == '1':\n",
    "    sign = '-'\n",
    "  ret.append(float(sign+telegram[32:34]+'.'+telegram[34:35]))# temperature_dew\n",
    "  p1 = '1'\n",
    "  if telegram[37:38] != '0':\n",
    "    p1 = ''\n",
    "  ret.append(float(p1+telegram[37:40]+'.'+telegram[40:41]))# pressure\n",
    "  ret.append(float(telegram[49:50]+'.'))#  pressure_tendency\n",
    "  ret.append(float(telegram[50:52]+'.'+telegram[52:53]))# pressure_tendency_value\n",
    "  wv = float(telegram[21:23]+'.')\n",
    "  wd_rad = int(telegram[19:21])*10*np.pi/180\n",
    "  ret.append(wv*np.cos(wd_rad)) # Wx\n",
    "  ret.append(wv*np.sin(wd_rad)) # Wy\n",
    "  d = datetime.strptime(date_term, \"%Y-%m-%d %H:%M:%S\")\n",
    "  s = time.mktime(d.timetuple())\n",
    "  day = 24*60*60\n",
    "  year = (365.2425)*day\n",
    "  ret.append(np.sin(s * (2 * np.pi / day)))\n",
    "  ret.append(np.cos(s * (2 * np.pi / day)))\n",
    "  ret.append(np.sin(s * (2 * np.pi / year)))\n",
    "  ret.append(np.cos(s * (2 * np.pi / year))) #Day sin \tDay cos \tYear sin \tYear cos\n",
    "  telegram = [ret]\n",
    "  model = tf.keras.models.load_model(model_name)\n",
    "#   predict_temperature = model.predict(telegram).flatten()[0]\n",
    "  predictions = model.predict(telegram)\n",
    "\n",
    "  return predictions\n",
    "\n",
    "d_t = '2021-08-03 12:00:00'\n",
    "telegram = 'ЩЭСМЮ 34519 /1697 62702 10284 20184 39881 40108 57003 79598 86900 555 1/035 69901='\n",
    "predictions = prepare_data(d_t, telegram, 'storm_dnn_model_2')\n",
    "# 'improve_dnn_model_2'\n",
    "# 'improve_dnn_model'\n",
    "# print('Максимальная температура в Донецке за день '+d_t[:10]+' => '+str(round(max_temperature,2)))"
   ]
  },
  {
   "cell_type": "code",
   "execution_count": 106,
   "metadata": {},
   "outputs": [
    {
     "data": {
      "image/png": "[encoded data removed]",
      "text/plain": [
       "<Figure size 432x288 with 1 Axes>"
      ]
     },
     "metadata": {
      "needs_background": "light"
     },
     "output_type": "display_data"
    }
   ],
   "source": [
    "plt.plot(np.squeeze(predictions))\n",
    "plt.ylabel('Вероятность')\n",
    "plt.xlabel('Тип опасного/стихийного явления')\n",
    "# plt.title(\"Learning rate =\" + str(learning_rate))\n",
    "plt.show()"
   ]
  },
  {
   "cell_type": "code",
   "execution_count": 107,
   "metadata": {},
   "outputs": [
    {
     "data": {
      "text/plain": [
       "<BarContainer object of 9 artists>"
      ]
     },
     "execution_count": 107,
     "metadata": {},
     "output_type": "execute_result"
    },
    {
     "data": {
      "image/png": "[encoded data removed]",
      "text/plain": [
       "<Figure size 432x288 with 1 Axes>"
      ]
     },
     "metadata": {
      "needs_background": "light"
     },
     "output_type": "display_data"
    }
   ],
   "source": [
    "# ['00', '11', '30', '40', '50', '51', '52', '90', '91']\n",
    "storm = ('Без шторма', 'Ветер', 'Низкая облачность', 'Видимость', 'Гололед', 'Сложные отложения', 'Налипание мокрого снега', 'Град', 'Гроза')\n",
    "fig, ax = plt.subplots()\n",
    "ax.barh(storm, np.squeeze(predictions))"
   ]
  },
  {
   "cell_type": "markdown",
   "metadata": {},
   "source": [
    "###### "
   ]
  },
  {
   "cell_type": "code",
   "execution_count": null,
   "metadata": {},
   "outputs": [],
   "source": []
  }
 ],
 "metadata": {
  "kernelspec": {
   "display_name": "Python 3",
   "language": "python",
   "name": "python3"
  },
  "language_info": {
   "codemirror_mode": {
    "name": "ipython",
    "version": 3
   },
   "file_extension": ".py",
   "mimetype": "text/x-python",
   "name": "python",
   "nbconvert_exporter": "python",
   "pygments_lexer": "ipython3",
   "version": "3.5.2"
  }
 },
 "nbformat": 4,
 "nbformat_minor": 4
}
