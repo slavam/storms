{
 "cells": [
  {
   "cell_type": "code",
   "execution_count": 1,
   "metadata": {},
   "outputs": [
    {
     "data": {
      "text/plain": [
       "'2.3.1'"
      ]
     },
     "execution_count": 1,
     "metadata": {},
     "output_type": "execute_result"
    }
   ],
   "source": [
    "# step 1 \n",
    "import tensorflow as tf\n",
    "import numpy as np\n",
    "import pandas as pd\n",
    "from tensorflow import keras\n",
    "from tensorflow.keras import layers\n",
    "from datetime import datetime\n",
    "import time\n",
    "import matplotlib.pyplot as plt\n",
    "from tensorflow.keras.layers.experimental import preprocessing\n",
    "tf.__version__"
   ]
  },
  {
   "cell_type": "code",
   "execution_count": 2,
   "metadata": {},
   "outputs": [],
   "source": [
    "# step 2 load data\n",
    "weather = pd.read_csv('donetsk_17_21_with_storms.csv', sep=';', header=0, parse_dates=True, squeeze=True)\n",
    "# weather.head()"
   ]
  },
  {
   "cell_type": "code",
   "execution_count": 3,
   "metadata": {},
   "outputs": [],
   "source": [
    "weather['wind_direction'] = weather['wind_direction']*10\n",
    "wv = weather.pop('wind_speed')\n",
    "\n",
    "# Convert to radians.\n",
    "wd_rad = weather.pop('wind_direction')*np.pi / 180\n",
    "\n",
    "# Calculate the wind x and y components.\n",
    "weather['Wx'] = wv*np.cos(wd_rad)\n",
    "weather['Wy'] = wv*np.sin(wd_rad)"
   ]
  },
  {
   "cell_type": "code",
   "execution_count": 4,
   "metadata": {},
   "outputs": [],
   "source": [
    "date_time = pd.to_datetime(weather.pop('started_at'), format='%Y-%m-%d %H:%M:%S')\n",
    "timestamp_s = date_time.map(pd.Timestamp.timestamp)"
   ]
  },
  {
   "cell_type": "code",
   "execution_count": 5,
   "metadata": {},
   "outputs": [],
   "source": [
    "day = 24*60*60\n",
    "year = (365.2425)*day\n",
    "\n",
    "weather['Day_sin'] = np.sin(timestamp_s * (2 * np.pi / day))\n",
    "weather['Day_cos'] = np.cos(timestamp_s * (2 * np.pi / day))\n",
    "weather['Year_sin'] = np.sin(timestamp_s * (2 * np.pi / year))\n",
    "weather['Year_cos'] = np.cos(timestamp_s * (2 * np.pi / year))"
   ]
  },
  {
   "cell_type": "code",
   "execution_count": 28,
   "metadata": {},
   "outputs": [
    {
     "data": {
      "text/html": [
       "<div>\n",
       "<style scoped>\n",
       "    .dataframe tbody tr th:only-of-type {\n",
       "        vertical-align: middle;\n",
       "    }\n",
       "\n",
       "    .dataframe tbody tr th {\n",
       "        vertical-align: top;\n",
       "    }\n",
       "\n",
       "    .dataframe thead th {\n",
       "        text-align: right;\n",
       "    }\n",
       "</style>\n",
       "<table border=\"1\" class=\"dataframe\">\n",
       "  <thead>\n",
       "    <tr style=\"text-align: right;\">\n",
       "      <th></th>\n",
       "      <th>cloud_height</th>\n",
       "      <th>cloud_amount</th>\n",
       "      <th>temperature</th>\n",
       "      <th>temperature_dew</th>\n",
       "      <th>pressure</th>\n",
       "      <th>pressure_tendency</th>\n",
       "      <th>pressure_tendency_value</th>\n",
       "      <th>code</th>\n",
       "      <th>Wx</th>\n",
       "      <th>Wy</th>\n",
       "      <th>Day_sin</th>\n",
       "      <th>Day_cos</th>\n",
       "      <th>Year_sin</th>\n",
       "      <th>Year_cos</th>\n",
       "    </tr>\n",
       "  </thead>\n",
       "  <tbody>\n",
       "    <tr>\n",
       "      <th>0</th>\n",
       "      <td>5</td>\n",
       "      <td>8</td>\n",
       "      <td>14.4</td>\n",
       "      <td>13.5</td>\n",
       "      <td>989.4</td>\n",
       "      <td>7</td>\n",
       "      <td>1.3</td>\n",
       "      <td>0</td>\n",
       "      <td>0.000000</td>\n",
       "      <td>0.000000</td>\n",
       "      <td>-2.942611e-12</td>\n",
       "      <td>1.000000e+00</td>\n",
       "      <td>-0.866949</td>\n",
       "      <td>-0.498398</td>\n",
       "    </tr>\n",
       "    <tr>\n",
       "      <th>1</th>\n",
       "      <td>5</td>\n",
       "      <td>8</td>\n",
       "      <td>14.2</td>\n",
       "      <td>13.4</td>\n",
       "      <td>989.3</td>\n",
       "      <td>7</td>\n",
       "      <td>0.1</td>\n",
       "      <td>0</td>\n",
       "      <td>0.000000</td>\n",
       "      <td>0.000000</td>\n",
       "      <td>7.071068e-01</td>\n",
       "      <td>7.071068e-01</td>\n",
       "      <td>-0.868018</td>\n",
       "      <td>-0.496532</td>\n",
       "    </tr>\n",
       "    <tr>\n",
       "      <th>2</th>\n",
       "      <td>5</td>\n",
       "      <td>8</td>\n",
       "      <td>15.2</td>\n",
       "      <td>13.2</td>\n",
       "      <td>989.7</td>\n",
       "      <td>3</td>\n",
       "      <td>0.4</td>\n",
       "      <td>0</td>\n",
       "      <td>0.000000</td>\n",
       "      <td>0.000000</td>\n",
       "      <td>1.000000e+00</td>\n",
       "      <td>5.505955e-12</td>\n",
       "      <td>-0.869084</td>\n",
       "      <td>-0.494665</td>\n",
       "    </tr>\n",
       "    <tr>\n",
       "      <th>3</th>\n",
       "      <td>5</td>\n",
       "      <td>6</td>\n",
       "      <td>17.7</td>\n",
       "      <td>13.2</td>\n",
       "      <td>988.9</td>\n",
       "      <td>8</td>\n",
       "      <td>0.8</td>\n",
       "      <td>8</td>\n",
       "      <td>-0.684040</td>\n",
       "      <td>-1.879385</td>\n",
       "      <td>7.071068e-01</td>\n",
       "      <td>-7.071068e-01</td>\n",
       "      <td>-0.870146</td>\n",
       "      <td>-0.492795</td>\n",
       "    </tr>\n",
       "    <tr>\n",
       "      <th>4</th>\n",
       "      <td>5</td>\n",
       "      <td>7</td>\n",
       "      <td>16.5</td>\n",
       "      <td>13.4</td>\n",
       "      <td>989.1</td>\n",
       "      <td>3</td>\n",
       "      <td>0.2</td>\n",
       "      <td>8</td>\n",
       "      <td>-1.368081</td>\n",
       "      <td>-3.758770</td>\n",
       "      <td>8.069299e-12</td>\n",
       "      <td>-1.000000e+00</td>\n",
       "      <td>-0.871203</td>\n",
       "      <td>-0.490922</td>\n",
       "    </tr>\n",
       "  </tbody>\n",
       "</table>\n",
       "</div>"
      ],
      "text/plain": [
       "   cloud_height  cloud_amount  temperature  temperature_dew  pressure  \\\n",
       "0             5             8         14.4             13.5     989.4   \n",
       "1             5             8         14.2             13.4     989.3   \n",
       "2             5             8         15.2             13.2     989.7   \n",
       "3             5             6         17.7             13.2     988.9   \n",
       "4             5             7         16.5             13.4     989.1   \n",
       "\n",
       "   pressure_tendency  pressure_tendency_value  code        Wx        Wy  \\\n",
       "0                  7                      1.3     0  0.000000  0.000000   \n",
       "1                  7                      0.1     0  0.000000  0.000000   \n",
       "2                  3                      0.4     0  0.000000  0.000000   \n",
       "3                  8                      0.8     8 -0.684040 -1.879385   \n",
       "4                  3                      0.2     8 -1.368081 -3.758770   \n",
       "\n",
       "        Day_sin       Day_cos  Year_sin  Year_cos  \n",
       "0 -2.942611e-12  1.000000e+00 -0.866949 -0.498398  \n",
       "1  7.071068e-01  7.071068e-01 -0.868018 -0.496532  \n",
       "2  1.000000e+00  5.505955e-12 -0.869084 -0.494665  \n",
       "3  7.071068e-01 -7.071068e-01 -0.870146 -0.492795  \n",
       "4  8.069299e-12 -1.000000e+00 -0.871203 -0.490922  "
      ]
     },
     "execution_count": 28,
     "metadata": {},
     "output_type": "execute_result"
    }
   ],
   "source": [
    "weather.head()"
   ]
  },
  {
   "cell_type": "code",
   "execution_count": 6,
   "metadata": {},
   "outputs": [
    {
     "name": "stdout",
     "output_type": "stream",
     "text": [
      "Using 9088 samples for training and 2272 for validation\n"
     ]
    }
   ],
   "source": [
    "# step 3 training - validation split\n",
    "val_weather = weather.sample(frac=0.2, random_state=1337)\n",
    "train_weather = weather.drop(val_weather.index)\n",
    "\n",
    "print(\n",
    "    \"Using %d samples for training and %d for validation\"\n",
    "    % (len(train_weather), len(val_weather))\n",
    ")"
   ]
  },
  {
   "cell_type": "code",
   "execution_count": 7,
   "metadata": {},
   "outputs": [],
   "source": [
    "# step 4 transform to dataset\n",
    "def dataframe_to_dataset(dataframe):\n",
    "    dataframe = dataframe.copy()\n",
    "    labels = dataframe.pop(\"code\")\n",
    "    ds = tf.data.Dataset.from_tensor_slices((dict(dataframe), labels))\n",
    "    ds = ds.shuffle(buffer_size=len(dataframe))\n",
    "    return ds\n",
    "\n",
    "\n",
    "train_ds = dataframe_to_dataset(train_weather)\n",
    "val_ds = dataframe_to_dataset(val_weather)"
   ]
  },
  {
   "cell_type": "code",
   "execution_count": 31,
   "metadata": {},
   "outputs": [
    {
     "name": "stdout",
     "output_type": "stream",
     "text": [
      "Input: {'pressure_tendency': <tf.Tensor: shape=(), dtype=int64, numpy=7>, 'cloud_height': <tf.Tensor: shape=(), dtype=int64, numpy=9>, 'cloud_amount': <tf.Tensor: shape=(), dtype=int64, numpy=0>, 'Wx': <tf.Tensor: shape=(), dtype=float64, numpy=1.0000000000000002>, 'Wy': <tf.Tensor: shape=(), dtype=float64, numpy=1.7320508075688772>, 'Year_cos': <tf.Tensor: shape=(), dtype=float64, numpy=-0.9833540027472062>, 'temperature': <tf.Tensor: shape=(), dtype=float64, numpy=21.4>, 'Year_sin': <tf.Tensor: shape=(), dtype=float64, numpy=0.18170004205020865>, 'Day_cos': <tf.Tensor: shape=(), dtype=float64, numpy=0.7071067811948568>, 'pressure': <tf.Tensor: shape=(), dtype=float64, numpy=981.1>, 'Day_sin': <tf.Tensor: shape=(), dtype=float64, numpy=0.7071067811782383>, 'pressure_tendency_value': <tf.Tensor: shape=(), dtype=float64, numpy=1.1>, 'temperature_dew': <tf.Tensor: shape=(), dtype=float64, numpy=13.4>}\n",
      "Target: tf.Tensor(0, shape=(), dtype=int64)\n"
     ]
    }
   ],
   "source": [
    "for x, y in train_ds.take(1):\n",
    "    print(\"Input:\", x)\n",
    "    print(\"Target:\", y)"
   ]
  },
  {
   "cell_type": "code",
   "execution_count": 8,
   "metadata": {},
   "outputs": [],
   "source": [
    "# step 5 to batch\n",
    "train_ds = train_ds.batch(32)\n",
    "val_ds = val_ds.batch(32)"
   ]
  },
  {
   "cell_type": "code",
   "execution_count": 9,
   "metadata": {},
   "outputs": [],
   "source": [
    "import tensorflow\n",
    "def encode_numerical_feature(feature, name, dataset):\n",
    "    # Create a Normalization layer for our feature\n",
    "    normalizer = preprocessing.Normalization()\n",
    "\n",
    "    # Prepare a Dataset that only yields our feature\n",
    "    feature_ds = dataset.map(lambda x, y: x[name])\n",
    "    feature_ds = feature_ds.map(lambda x: tf.expand_dims(x, -1))\n",
    "\n",
    "    # Learn the statistics of the data\n",
    "    normalizer.adapt(feature_ds)\n",
    "\n",
    "    # Normalize the input feature\n",
    "    encoded_feature = normalizer(feature)\n",
    "    return encoded_feature\n",
    "\n",
    "def encode_integer_categorical_feature(feature, name, dataset):\n",
    "    # Create a CategoryEncoding for our integer indices\n",
    "#     encoder = sklearn.preprocessing.CategoryEncoding(output_mode=\"binary\")\n",
    "    encoder = tensorflow.keras.layers.experimental.preprocessing.CategoryEncoding(output_mode=\"binary\")\n",
    "\n",
    "    # Prepare a Dataset that only yields our feature\n",
    "    feature_ds = dataset.map(lambda x, y: x[name])\n",
    "    feature_ds = feature_ds.map(lambda x: tf.expand_dims(x, -1))\n",
    "\n",
    "    # Learn the space of possible indices\n",
    "    encoder.adapt(feature_ds)\n",
    "\n",
    "    # Apply one-hot encoding to our indices\n",
    "    encoded_feature = encoder(feature)\n",
    "    return encoded_feature\n",
    "# weather.head()"
   ]
  },
  {
   "cell_type": "code",
   "execution_count": 10,
   "metadata": {},
   "outputs": [],
   "source": [
    "# step 7 prepare data and model\n",
    "\n",
    "cloud_height = keras.Input(shape=(1,), name=\"cloud_height\", dtype=\"int64\")\n",
    "cloud_amount = keras.Input(shape=(1,), name=\"cloud_amount\", dtype=\"int64\")\n",
    "pressure_tendency = keras.Input(shape=(1,), name=\"pressure_tendency\", dtype=\"int64\")\n",
    "\n",
    "# Numerical features\n",
    "# w_s = keras.Input(shape=(1,), name=\"w_s\")\n",
    "temperature = keras.Input(shape=(1,), name=\"temperature\")\n",
    "temperature_dew = keras.Input(shape=(1,), name=\"temperature_dew\")\n",
    "pressure = keras.Input(shape=(1,), name=\"pressure\")\n",
    "pressure_tendency_value = keras.Input(shape=(1,), name=\"pressure_tendency_value\")\n",
    "w_x = keras.Input(shape=(1,), name=\"Wx\")\n",
    "w_y = keras.Input(shape=(1,), name=\"Wy\")\n",
    "day_sin = keras.Input(shape=(1,), name=\"Day_sin\")\n",
    "day_cos = keras.Input(shape=(1,), name=\"Day_cos\")\n",
    "year_sin = keras.Input(shape=(1,), name=\"Year_sin\")\n",
    "year_cos = keras.Input(shape=(1,), name=\"Year_cos\")\n",
    "\n",
    "all_inputs = [\n",
    "    cloud_height,\n",
    "    cloud_amount,\n",
    "    pressure_tendency,\n",
    "    temperature,\n",
    "    temperature_dew,\n",
    "    pressure,\n",
    "    pressure_tendency_value,\n",
    "    w_x,\n",
    "    w_y,\n",
    "    day_sin,\n",
    "    day_cos,\n",
    "    year_sin,\n",
    "    year_cos,\n",
    "]\n",
    "\n",
    "# Integer categorical features\n",
    "cloud_height_encoded = encode_integer_categorical_feature(cloud_height, \"cloud_height\", train_ds)\n",
    "cloud_amount_encoded = encode_integer_categorical_feature(cloud_amount, \"cloud_amount\", train_ds)\n",
    "pressure_tendency_encoded = encode_integer_categorical_feature(pressure_tendency, \"pressure_tendency\", train_ds)\n",
    "\n",
    "# String categorical features\n",
    "# thal_encoded = encode_string_categorical_feature(thal, \"thal\", train_ds)\n",
    "\n",
    "# Numerical features\n",
    "temperature_encoded = encode_numerical_feature(temperature, \"temperature\", train_ds)\n",
    "temperature_dew_encoded = encode_numerical_feature(temperature_dew, \"temperature_dew\", train_ds)\n",
    "pressure_encoded = encode_numerical_feature(pressure, \"pressure\", train_ds)\n",
    "pressure_tendency_value_encoded = encode_numerical_feature(pressure_tendency_value, \"pressure_tendency_value\", train_ds)\n",
    "w_x_encoded = encode_numerical_feature(w_x, 'Wx', train_ds)\n",
    "w_y_encoded = encode_numerical_feature(w_y, 'Wy', train_ds)\n",
    "day_sin_encoded = encode_numerical_feature(day_sin, 'Day_sin', train_ds)\n",
    "day_cos_encoded = encode_numerical_feature(day_cos, 'Day_cos', train_ds)\n",
    "year_sin_encoded = encode_numerical_feature(year_sin, 'Year_sin', train_ds)\n",
    "year_cos_encoded = encode_numerical_feature(year_cos, 'Year_cos', train_ds)\n",
    "\n",
    "all_features = layers.concatenate(\n",
    "    [\n",
    "        cloud_height_encoded,\n",
    "        cloud_amount_encoded,\n",
    "        pressure_tendency_encoded,\n",
    "        temperature_encoded,\n",
    "        temperature_dew_encoded,\n",
    "        pressure_encoded,\n",
    "        w_x_encoded,\n",
    "        w_y_encoded,\n",
    "        day_sin_encoded,\n",
    "        day_cos_encoded,\n",
    "        year_sin_encoded,\n",
    "        year_cos_encoded\n",
    "    ]\n",
    ")\n",
    "x = layers.Dense(256, activation=\"relu\")(all_features)\n",
    "x = layers.BatchNormalization()(x)\n",
    "x = layers.Dense(128, activation=\"relu\")(x)\n",
    "# x = layers.Dense(256, activation=\"relu\")(x)\n",
    "x = layers.Dropout(0.1)(x)\n",
    "# x = layers.Dropout(0.5)(x)\n",
    "# x = layers.Dense(256, activation=\"relu\")(x),\n",
    "# x = layers.Dropout(0.3)(x),\n",
    "output = layers.Dense(9, activation=\"softmax\")(x)\n",
    "model = keras.Model(all_inputs, output)\n",
    "model.compile(\"adam\", \"sparse_categorical_crossentropy\", metrics=[\"accuracy\"])"
   ]
  },
  {
   "cell_type": "code",
   "execution_count": 13,
   "metadata": {},
   "outputs": [
    {
     "name": "stdout",
     "output_type": "stream",
     "text": [
      "Model: \"functional_1\"\n",
      "__________________________________________________________________________________________________\n",
      "Layer (type)                    Output Shape         Param #     Connected to                     \n",
      "==================================================================================================\n",
      "cloud_height (InputLayer)       [(None, 1)]          0                                            \n",
      "__________________________________________________________________________________________________\n",
      "cloud_amount (InputLayer)       [(None, 1)]          0                                            \n",
      "__________________________________________________________________________________________________\n",
      "pressure_tendency (InputLayer)  [(None, 1)]          0                                            \n",
      "__________________________________________________________________________________________________\n",
      "temperature (InputLayer)        [(None, 1)]          0                                            \n",
      "__________________________________________________________________________________________________\n",
      "temperature_dew (InputLayer)    [(None, 1)]          0                                            \n",
      "__________________________________________________________________________________________________\n",
      "pressure (InputLayer)           [(None, 1)]          0                                            \n",
      "__________________________________________________________________________________________________\n",
      "Wx (InputLayer)                 [(None, 1)]          0                                            \n",
      "__________________________________________________________________________________________________\n",
      "Wy (InputLayer)                 [(None, 1)]          0                                            \n",
      "__________________________________________________________________________________________________\n",
      "Day_sin (InputLayer)            [(None, 1)]          0                                            \n",
      "__________________________________________________________________________________________________\n",
      "Day_cos (InputLayer)            [(None, 1)]          0                                            \n",
      "__________________________________________________________________________________________________\n",
      "Year_sin (InputLayer)           [(None, 1)]          0                                            \n",
      "__________________________________________________________________________________________________\n",
      "Year_cos (InputLayer)           [(None, 1)]          0                                            \n",
      "__________________________________________________________________________________________________\n",
      "category_encoding (CategoryEnco (None, 11)           1           cloud_height[0][0]               \n",
      "__________________________________________________________________________________________________\n",
      "category_encoding_1 (CategoryEn (None, 10)           1           cloud_amount[0][0]               \n",
      "__________________________________________________________________________________________________\n",
      "category_encoding_2 (CategoryEn (None, 9)            1           pressure_tendency[0][0]          \n",
      "__________________________________________________________________________________________________\n",
      "normalization (Normalization)   (None, 1)            3           temperature[0][0]                \n",
      "__________________________________________________________________________________________________\n",
      "normalization_1 (Normalization) (None, 1)            3           temperature_dew[0][0]            \n",
      "__________________________________________________________________________________________________\n",
      "normalization_2 (Normalization) (None, 1)            3           pressure[0][0]                   \n",
      "__________________________________________________________________________________________________\n",
      "normalization_4 (Normalization) (None, 1)            3           Wx[0][0]                         \n",
      "__________________________________________________________________________________________________\n",
      "normalization_5 (Normalization) (None, 1)            3           Wy[0][0]                         \n",
      "__________________________________________________________________________________________________\n",
      "normalization_6 (Normalization) (None, 1)            3           Day_sin[0][0]                    \n",
      "__________________________________________________________________________________________________\n",
      "normalization_7 (Normalization) (None, 1)            3           Day_cos[0][0]                    \n",
      "__________________________________________________________________________________________________\n",
      "normalization_8 (Normalization) (None, 1)            3           Year_sin[0][0]                   \n",
      "__________________________________________________________________________________________________\n",
      "normalization_9 (Normalization) (None, 1)            3           Year_cos[0][0]                   \n",
      "__________________________________________________________________________________________________\n",
      "concatenate (Concatenate)       (None, 39)           0           category_encoding[0][0]          \n",
      "                                                                 category_encoding_1[0][0]        \n",
      "                                                                 category_encoding_2[0][0]        \n",
      "                                                                 normalization[0][0]              \n",
      "                                                                 normalization_1[0][0]            \n",
      "                                                                 normalization_2[0][0]            \n",
      "                                                                 normalization_4[0][0]            \n",
      "                                                                 normalization_5[0][0]            \n",
      "                                                                 normalization_6[0][0]            \n",
      "                                                                 normalization_7[0][0]            \n",
      "                                                                 normalization_8[0][0]            \n",
      "                                                                 normalization_9[0][0]            \n",
      "__________________________________________________________________________________________________\n",
      "dense (Dense)                   (None, 256)          10240       concatenate[0][0]                \n",
      "__________________________________________________________________________________________________\n",
      "batch_normalization (BatchNorma (None, 256)          1024        dense[0][0]                      \n",
      "__________________________________________________________________________________________________\n",
      "dense_1 (Dense)                 (None, 128)          32896       batch_normalization[0][0]        \n",
      "__________________________________________________________________________________________________\n",
      "dropout (Dropout)               (None, 128)          0           dense_1[0][0]                    \n",
      "__________________________________________________________________________________________________\n",
      "pressure_tendency_value (InputL [(None, 1)]          0                                            \n",
      "__________________________________________________________________________________________________\n",
      "dense_2 (Dense)                 (None, 9)            1161        dropout[0][0]                    \n",
      "==================================================================================================\n",
      "Total params: 45,351\n",
      "Trainable params: 44,809\n",
      "Non-trainable params: 542\n",
      "__________________________________________________________________________________________________\n"
     ]
    }
   ],
   "source": [
    "model.summary()"
   ]
  },
  {
   "cell_type": "code",
   "execution_count": 11,
   "metadata": {},
   "outputs": [
    {
     "name": "stdout",
     "output_type": "stream",
     "text": [
      "Epoch 1/50\n",
      "284/284 [==============================] - 2s 7ms/step - accuracy: 0.8726 - loss: 0.5165 - val_accuracy: 0.9036 - val_loss: 0.4278\n",
      "Epoch 2/50\n",
      "284/284 [==============================] - 1s 5ms/step - accuracy: 0.8969 - loss: 0.3710 - val_accuracy: 0.9045 - val_loss: 0.3778\n",
      "Epoch 3/50\n",
      "284/284 [==============================] - 2s 7ms/step - accuracy: 0.9034 - loss: 0.3469 - val_accuracy: 0.9032 - val_loss: 0.3736\n",
      "Epoch 4/50\n",
      "284/284 [==============================] - 2s 6ms/step - accuracy: 0.9011 - loss: 0.3282 - val_accuracy: 0.8996 - val_loss: 0.3652\n",
      "Epoch 5/50\n",
      "284/284 [==============================] - 2s 6ms/step - accuracy: 0.9058 - loss: 0.3111 - val_accuracy: 0.8979 - val_loss: 0.3713\n",
      "Epoch 6/50\n",
      "284/284 [==============================] - 2s 6ms/step - accuracy: 0.9035 - loss: 0.3021 - val_accuracy: 0.8996 - val_loss: 0.3722\n",
      "Epoch 7/50\n",
      "284/284 [==============================] - 1s 5ms/step - accuracy: 0.9045 - loss: 0.2882 - val_accuracy: 0.8930 - val_loss: 0.3873\n",
      "Epoch 8/50\n",
      "284/284 [==============================] - 1s 5ms/step - accuracy: 0.9083 - loss: 0.2811 - val_accuracy: 0.8992 - val_loss: 0.3784\n",
      "Epoch 9/50\n",
      "284/284 [==============================] - 1s 5ms/step - accuracy: 0.9085 - loss: 0.2740 - val_accuracy: 0.8935 - val_loss: 0.3743\n",
      "Epoch 10/50\n",
      "284/284 [==============================] - 1s 5ms/step - accuracy: 0.9103 - loss: 0.2654 - val_accuracy: 0.8904 - val_loss: 0.3924\n",
      "Epoch 11/50\n",
      "284/284 [==============================] - 2s 7ms/step - accuracy: 0.9138 - loss: 0.2498 - val_accuracy: 0.8944 - val_loss: 0.4029\n",
      "Epoch 12/50\n",
      "284/284 [==============================] - 2s 7ms/step - accuracy: 0.9114 - loss: 0.2483 - val_accuracy: 0.8996 - val_loss: 0.4097\n",
      "Epoch 13/50\n",
      "284/284 [==============================] - 2s 6ms/step - accuracy: 0.9168 - loss: 0.2360 - val_accuracy: 0.8812 - val_loss: 0.4258\n",
      "Epoch 14/50\n",
      "284/284 [==============================] - 2s 6ms/step - accuracy: 0.9181 - loss: 0.2267 - val_accuracy: 0.8873 - val_loss: 0.4292\n",
      "Epoch 15/50\n",
      "284/284 [==============================] - 2s 6ms/step - accuracy: 0.9169 - loss: 0.2255 - val_accuracy: 0.8922 - val_loss: 0.4325\n",
      "Epoch 16/50\n",
      "284/284 [==============================] - 2s 6ms/step - accuracy: 0.9181 - loss: 0.2182 - val_accuracy: 0.8820 - val_loss: 0.4382\n",
      "Epoch 17/50\n",
      "284/284 [==============================] - 2s 6ms/step - accuracy: 0.9228 - loss: 0.2094 - val_accuracy: 0.8816 - val_loss: 0.4393\n",
      "Epoch 18/50\n",
      "284/284 [==============================] - 2s 6ms/step - accuracy: 0.9253 - loss: 0.2018 - val_accuracy: 0.8790 - val_loss: 0.4680\n",
      "Epoch 19/50\n",
      "284/284 [==============================] - 2s 6ms/step - accuracy: 0.9255 - loss: 0.1916 - val_accuracy: 0.8908 - val_loss: 0.4998\n",
      "Epoch 20/50\n",
      "284/284 [==============================] - 2s 6ms/step - accuracy: 0.9257 - loss: 0.1911 - val_accuracy: 0.8697 - val_loss: 0.4845\n",
      "Epoch 21/50\n",
      "284/284 [==============================] - 2s 7ms/step - accuracy: 0.9297 - loss: 0.1868 - val_accuracy: 0.8697 - val_loss: 0.4992\n",
      "Epoch 22/50\n",
      "284/284 [==============================] - 2s 6ms/step - accuracy: 0.9299 - loss: 0.1823 - val_accuracy: 0.8816 - val_loss: 0.5029\n",
      "Epoch 23/50\n",
      "284/284 [==============================] - 2s 6ms/step - accuracy: 0.9318 - loss: 0.1782 - val_accuracy: 0.8803 - val_loss: 0.5015\n",
      "Epoch 24/50\n",
      "284/284 [==============================] - 2s 6ms/step - accuracy: 0.9376 - loss: 0.1630 - val_accuracy: 0.8856 - val_loss: 0.5529\n",
      "Epoch 25/50\n",
      "284/284 [==============================] - 2s 5ms/step - accuracy: 0.9368 - loss: 0.1611 - val_accuracy: 0.8759 - val_loss: 0.5393\n",
      "Epoch 26/50\n",
      "284/284 [==============================] - 2s 6ms/step - accuracy: 0.9361 - loss: 0.1612 - val_accuracy: 0.8759 - val_loss: 0.5498\n",
      "Epoch 27/50\n",
      "284/284 [==============================] - 2s 6ms/step - accuracy: 0.9421 - loss: 0.1511 - val_accuracy: 0.8803 - val_loss: 0.5753\n",
      "Epoch 28/50\n",
      "284/284 [==============================] - 2s 6ms/step - accuracy: 0.9441 - loss: 0.1452 - val_accuracy: 0.8772 - val_loss: 0.5986\n",
      "Epoch 29/50\n",
      "284/284 [==============================] - 2s 6ms/step - accuracy: 0.9443 - loss: 0.1441 - val_accuracy: 0.8763 - val_loss: 0.6119\n",
      "Epoch 30/50\n",
      "284/284 [==============================] - 2s 6ms/step - accuracy: 0.9428 - loss: 0.1467 - val_accuracy: 0.8781 - val_loss: 0.5933\n",
      "Epoch 31/50\n",
      "284/284 [==============================] - 2s 6ms/step - accuracy: 0.9439 - loss: 0.1413 - val_accuracy: 0.8820 - val_loss: 0.6394\n",
      "Epoch 32/50\n",
      "284/284 [==============================] - 2s 6ms/step - accuracy: 0.9486 - loss: 0.1361 - val_accuracy: 0.8732 - val_loss: 0.6482\n",
      "Epoch 33/50\n",
      "284/284 [==============================] - 2s 6ms/step - accuracy: 0.9502 - loss: 0.1284 - val_accuracy: 0.8798 - val_loss: 0.6445\n",
      "Epoch 34/50\n",
      "284/284 [==============================] - 2s 7ms/step - accuracy: 0.9499 - loss: 0.1291 - val_accuracy: 0.8693 - val_loss: 0.6593\n",
      "Epoch 35/50\n",
      "284/284 [==============================] - 2s 7ms/step - accuracy: 0.9486 - loss: 0.1324 - val_accuracy: 0.8807 - val_loss: 0.6645\n",
      "Epoch 36/50\n",
      "284/284 [==============================] - 2s 6ms/step - accuracy: 0.9504 - loss: 0.1273 - val_accuracy: 0.8803 - val_loss: 0.6816\n",
      "Epoch 37/50\n",
      "284/284 [==============================] - 2s 6ms/step - accuracy: 0.9528 - loss: 0.1175 - val_accuracy: 0.8702 - val_loss: 0.7168\n",
      "Epoch 38/50\n",
      "284/284 [==============================] - 2s 6ms/step - accuracy: 0.9536 - loss: 0.1191 - val_accuracy: 0.8631 - val_loss: 0.6899\n",
      "Epoch 39/50\n",
      "284/284 [==============================] - 2s 6ms/step - accuracy: 0.9504 - loss: 0.1221 - val_accuracy: 0.8772 - val_loss: 0.7241\n",
      "Epoch 40/50\n",
      "284/284 [==============================] - 2s 5ms/step - accuracy: 0.9568 - loss: 0.1127 - val_accuracy: 0.8666 - val_loss: 0.7378\n",
      "Epoch 41/50\n",
      "284/284 [==============================] - 2s 6ms/step - accuracy: 0.9535 - loss: 0.1182 - val_accuracy: 0.8790 - val_loss: 0.7199\n",
      "Epoch 42/50\n",
      "284/284 [==============================] - 2s 6ms/step - accuracy: 0.9583 - loss: 0.1116 - val_accuracy: 0.8763 - val_loss: 0.7330\n",
      "Epoch 43/50\n",
      "284/284 [==============================] - 2s 5ms/step - accuracy: 0.9580 - loss: 0.1092 - val_accuracy: 0.8732 - val_loss: 0.7475\n",
      "Epoch 44/50\n",
      "284/284 [==============================] - 2s 6ms/step - accuracy: 0.9575 - loss: 0.1048 - val_accuracy: 0.8754 - val_loss: 0.7568\n",
      "Epoch 45/50\n",
      "284/284 [==============================] - 2s 6ms/step - accuracy: 0.9642 - loss: 0.0979 - val_accuracy: 0.8688 - val_loss: 0.7757\n",
      "Epoch 46/50\n",
      "284/284 [==============================] - 2s 6ms/step - accuracy: 0.9613 - loss: 0.0982 - val_accuracy: 0.8776 - val_loss: 0.8095\n",
      "Epoch 47/50\n",
      "284/284 [==============================] - 2s 6ms/step - accuracy: 0.9604 - loss: 0.1019 - val_accuracy: 0.8697 - val_loss: 0.7792\n",
      "Epoch 48/50\n",
      "284/284 [==============================] - 2s 6ms/step - accuracy: 0.9614 - loss: 0.0959 - val_accuracy: 0.8772 - val_loss: 0.8384\n",
      "Epoch 49/50\n",
      "284/284 [==============================] - 2s 6ms/step - accuracy: 0.9612 - loss: 0.1006 - val_accuracy: 0.8750 - val_loss: 0.8165\n",
      "Epoch 50/50\n",
      "284/284 [==============================] - 2s 6ms/step - accuracy: 0.9638 - loss: 0.0970 - val_accuracy: 0.8776 - val_loss: 0.8268\n"
     ]
    },
    {
     "data": {
      "text/plain": [
       "<tensorflow.python.keras.callbacks.History at 0x7fd2418e9080>"
      ]
     },
     "execution_count": 11,
     "metadata": {},
     "output_type": "execute_result"
    }
   ],
   "source": [
    "# step 8 fit model\n",
    "model.fit(train_ds, epochs=50, validation_data=val_ds)"
   ]
  },
  {
   "cell_type": "code",
   "execution_count": 15,
   "metadata": {},
   "outputs": [
    {
     "name": "stdout",
     "output_type": "stream",
     "text": [
      "WARNING:tensorflow:From /home/slavam/my_python/my_python_env/lib/python3.5/site-packages/tensorflow/python/training/tracking/tracking.py:111: Model.state_updates (from tensorflow.python.keras.engine.training) is deprecated and will be removed in a future version.\n",
      "Instructions for updating:\n",
      "This property should not be used in TensorFlow 2.0, as updates are applied automatically.\n",
      "WARNING:tensorflow:From /home/slavam/my_python/my_python_env/lib/python3.5/site-packages/tensorflow/python/training/tracking/tracking.py:111: Layer.updates (from tensorflow.python.keras.engine.base_layer) is deprecated and will be removed in a future version.\n",
      "Instructions for updating:\n",
      "This property should not be used in TensorFlow 2.0, as updates are applied automatically.\n",
      "INFO:tensorflow:Assets written to: multistorm_donetsk_model/assets\n"
     ]
    }
   ],
   "source": [
    "model.save('multistorm_donetsk_model')\n",
    "# test_results = {}\n",
    "# test_results['dnn_model'] = model.evaluate(test_ds, test_labels, verbose=0)"
   ]
  },
  {
   "cell_type": "code",
   "execution_count": 12,
   "metadata": {},
   "outputs": [],
   "source": [
    "def prepare_data(date_term, telegram, model_name):\n",
    "    ret = {}\n",
    "    ret['cloud_height'] = int(telegram[14:15])\n",
    "    ret['cloud_amount'] = int(telegram[18:19])\n",
    "    ret['pressure_tendency'] = int(telegram[49:50])\n",
    "    sign = ''\n",
    "    if telegram[25:26] == '1':\n",
    "        sign = '-'\n",
    "    ret['temperature'] = float(sign+telegram[26:28]+'.'+telegram[28:29])\n",
    "    sign = ''\n",
    "    if telegram[31:32] == '1':\n",
    "        sign = '-'\n",
    "    ret['temperature_dew'] = float(sign+telegram[32:34]+'.'+telegram[34:35])\n",
    "    p1 = '1'\n",
    "    if telegram[37:38] != '0':\n",
    "        p1 = ''\n",
    "    ret['pressure'] = float(p1+telegram[37:40]+'.'+telegram[40:41])\n",
    "    ret['pressure_tendency_value'] = float(telegram[50:52]+'.'+telegram[52:53])\n",
    "    wv = float(telegram[21:23]+'.')\n",
    "    wd_rad = int(telegram[19:21])*10*np.pi/180\n",
    "    ret['w_x'] = wv*np.cos(wd_rad)\n",
    "    ret['w_y'] = wv*np.sin(wd_rad)\n",
    "    d = datetime.strptime(date_term, \"%Y-%m-%d %H:%M:%S\")\n",
    "    s = time.mktime(d.timetuple())\n",
    "    day = 24*60*60\n",
    "    year = (365.2425)*day\n",
    "    ret['day_sin'] = np.sin(s * (2 * np.pi / day))\n",
    "    ret['day_cos'] = np.cos(s * (2 * np.pi / day))\n",
    "    ret['year_sin'] = np.sin(s * (2 * np.pi / year))\n",
    "    ret['year_cos'] = np.cos(s * (2 * np.pi / year))\n",
    "    input_dict = {name: tf.convert_to_tensor([value]) for name, value in ret.items()}\n",
    "#     model = tf.keras.models.load_model(model_name)\n",
    "    predictions = model.predict(input_dict)\n",
    "    \n",
    "    return predictions\n",
    "\n",
    "d_t = '2021-08-19 06:00:00'\n",
    "telegram = 'ЩЭСМЮ 34519 31696 60902 10256 20150 39836 40064 58001 71011 82534 333 20210 555 1/032='\n",
    "predictions = prepare_data(d_t, telegram, 'multistorm_donetsk_model')\n",
    "# predictions"
   ]
  },
  {
   "cell_type": "code",
   "execution_count": 13,
   "metadata": {},
   "outputs": [
    {
     "data": {
      "image/png": "[encoded data removed]",
      "text/plain": [
       "<Figure size 432x288 with 1 Axes>"
      ]
     },
     "metadata": {
      "needs_background": "light"
     },
     "output_type": "display_data"
    }
   ],
   "source": [
    "plt.plot(np.squeeze(predictions))\n",
    "plt.ylabel('Вероятность')\n",
    "plt.xlabel('Тип опасного/стихийного явления')\n",
    "# plt.title(\"Learning rate =\" + str(learning_rate))\n",
    "plt.show()"
   ]
  },
  {
   "cell_type": "code",
   "execution_count": 14,
   "metadata": {},
   "outputs": [
    {
     "data": {
      "text/plain": [
       "<BarContainer object of 9 artists>"
      ]
     },
     "execution_count": 14,
     "metadata": {},
     "output_type": "execute_result"
    },
    {
     "data": {
      "image/png": "[encoded data removed]",
      "text/plain": [
       "<Figure size 432x288 with 1 Axes>"
      ]
     },
     "metadata": {
      "needs_background": "light"
     },
     "output_type": "display_data"
    }
   ],
   "source": [
    "storm = ('Без шторма', 'Ветер', 'Низкая облачность', 'Видимость', 'Гололед', 'Сложные отложения', 'Налипание мокрого снега', 'Град', 'Гроза')\n",
    "fig, ax = plt.subplots()\n",
    "ax.barh(storm, np.squeeze(predictions))"
   ]
  },
  {
   "cell_type": "code",
   "execution_count": 17,
   "metadata": {},
   "outputs": [
    {
     "data": {
      "text/plain": [
       "array([[6.5542434e-28, 1.0000000e+00, 0.0000000e+00, 0.0000000e+00,\n",
       "        0.0000000e+00, 0.0000000e+00, 0.0000000e+00, 0.0000000e+00,\n",
       "        0.0000000e+00]], dtype=float32)"
      ]
     },
     "execution_count": 17,
     "metadata": {},
     "output_type": "execute_result"
    }
   ],
   "source": [
    "predictions"
   ]
  },
  {
   "cell_type": "code",
   "execution_count": 19,
   "metadata": {},
   "outputs": [
    {
     "name": "stdout",
     "output_type": "stream",
     "text": [
      "Max Value of Action ->  -0.003\n"
     ]
    }
   ],
   "source": [
    "print(\"Max Value of Action ->  {}\".format(-3e-3))"
   ]
  },
  {
   "cell_type": "code",
   "execution_count": null,
   "metadata": {},
   "outputs": [],
   "source": []
  }
 ],
 "metadata": {
  "kernelspec": {
   "display_name": "Python 3",
   "language": "python",
   "name": "python3"
  },
  "language_info": {
   "codemirror_mode": {
    "name": "ipython",
    "version": 3
   },
   "file_extension": ".py",
   "mimetype": "text/x-python",
   "name": "python",
   "nbconvert_exporter": "python",
   "pygments_lexer": "ipython3",
   "version": "3.5.2"
  }
 },
 "nbformat": 4,
 "nbformat_minor": 4
}
