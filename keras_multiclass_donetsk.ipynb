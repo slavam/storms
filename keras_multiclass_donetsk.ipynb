{
 "cells": [
  {
   "cell_type": "code",
   "execution_count": 1,
   "metadata": {},
   "outputs": [],
   "source": [
    "# step 1 \n",
    "import tensorflow as tf\n",
    "import numpy as np\n",
    "import pandas as pd\n",
    "from tensorflow import keras\n",
    "from tensorflow.keras import layers\n"
   ]
  },
  {
   "cell_type": "code",
   "execution_count": 3,
   "metadata": {},
   "outputs": [
    {
     "name": "stdout",
     "output_type": "stream",
     "text": [
      "                     height  vis  cloud  w_d  w_s  temp  dew   pres  storm\n",
      "date                                                                      \n",
      "2017-11-02 00:00:00       4   97      8   25    4   1.7  0.3  989.6      0\n",
      "2017-11-02 03:00:00       4   97      8   25    4   3.0  2.2  988.3      0\n",
      "2017-11-02 06:00:00       4   96      8   25    6   4.2  3.5  987.8      1\n",
      "2017-11-02 09:00:00       4   97      8   25    8   6.3  4.2  986.9      0\n",
      "2017-11-02 12:00:00       4   96      8   27    6   6.2  4.6  986.6      0\n"
     ]
    }
   ],
   "source": [
    "# step 2 load data\n",
    "weather = pd.read_csv('weather_donetsk.csv', sep=',', header=0, index_col=0, parse_dates=True, squeeze=True)\n",
    "print(weather.head())"
   ]
  },
  {
   "cell_type": "code",
   "execution_count": 4,
   "metadata": {},
   "outputs": [
    {
     "data": {
      "text/plain": [
       "(8816, 9)"
      ]
     },
     "execution_count": 4,
     "metadata": {},
     "output_type": "execute_result"
    }
   ],
   "source": [
    "weather.shape"
   ]
  },
  {
   "cell_type": "code",
   "execution_count": 5,
   "metadata": {},
   "outputs": [
    {
     "name": "stdout",
     "output_type": "stream",
     "text": [
      "Using 7053 samples for training and 1763 for validation\n"
     ]
    }
   ],
   "source": [
    "# step 3 training - validation split\n",
    "val_weather = weather.sample(frac=0.2, random_state=1337)\n",
    "train_weather = weather.drop(val_weather.index)\n",
    "\n",
    "print(\n",
    "    \"Using %d samples for training and %d for validation\"\n",
    "    % (len(train_weather), len(val_weather))\n",
    ")\n"
   ]
  },
  {
   "cell_type": "code",
   "execution_count": 6,
   "metadata": {},
   "outputs": [],
   "source": [
    "# step 4 transform to dataset\n",
    "def dataframe_to_dataset(dataframe):\n",
    "    dataframe = dataframe.copy()\n",
    "    labels = dataframe.pop(\"storm\")\n",
    "    ds = tf.data.Dataset.from_tensor_slices((dict(dataframe), labels))\n",
    "    ds = ds.shuffle(buffer_size=len(dataframe))\n",
    "    return ds\n",
    "\n",
    "\n",
    "train_ds = dataframe_to_dataset(train_weather)\n",
    "val_ds = dataframe_to_dataset(val_weather)\n"
   ]
  },
  {
   "cell_type": "code",
   "execution_count": 8,
   "metadata": {},
   "outputs": [
    {
     "name": "stdout",
     "output_type": "stream",
     "text": [
      "Input: {'temp': <tf.Tensor: shape=(), dtype=float64, numpy=15.6>, 'w_s': <tf.Tensor: shape=(), dtype=int64, numpy=0>, 'height': <tf.Tensor: shape=(), dtype=int64, numpy=9>, 'pres': <tf.Tensor: shape=(), dtype=float64, numpy=988.7>, 'vis': <tf.Tensor: shape=(), dtype=int64, numpy=97>, 'cloud': <tf.Tensor: shape=(), dtype=int64, numpy=0>, 'w_d': <tf.Tensor: shape=(), dtype=int64, numpy=0>, 'dew': <tf.Tensor: shape=(), dtype=float64, numpy=-0.5>}\n",
      "Target: tf.Tensor(0, shape=(), dtype=int64)\n"
     ]
    }
   ],
   "source": [
    "for x, y in train_ds.take(1):\n",
    "    print(\"Input:\", x)\n",
    "    print(\"Target:\", y)\n"
   ]
  },
  {
   "cell_type": "code",
   "execution_count": 7,
   "metadata": {},
   "outputs": [],
   "source": [
    "# step 5 to batch\n",
    "train_ds = train_ds.batch(32)\n",
    "val_ds = val_ds.batch(32)\n"
   ]
  },
  {
   "cell_type": "code",
   "execution_count": 8,
   "metadata": {},
   "outputs": [],
   "source": [
    "# step 6 metods for prepare data\n",
    "# from category_encoders import *\n",
    "import tensorflow\n",
    "from tensorflow import keras\n",
    "from tensorflow.keras import layers\n",
    "from tensorflow.keras.layers.experimental.preprocessing import Normalization\n",
    "# from tensorflow.keras.layers.experimental.preprocessing \n",
    "# from sklearn.preprocessing import CategoryEncoding\n",
    "# from tensorflow.keras.layers.experimental.preprocessing import CategoryEncoding\n",
    "# from tensorflow.keras.layers.experimental.preprocessing import StringLookup\n",
    "\n",
    "\n",
    "def encode_numerical_feature(feature, name, dataset):\n",
    "    # Create a Normalization layer for our feature\n",
    "    normalizer = Normalization()\n",
    "\n",
    "    # Prepare a Dataset that only yields our feature\n",
    "    feature_ds = dataset.map(lambda x, y: x[name])\n",
    "    feature_ds = feature_ds.map(lambda x: tf.expand_dims(x, -1))\n",
    "\n",
    "    # Learn the statistics of the data\n",
    "    normalizer.adapt(feature_ds)\n",
    "\n",
    "    # Normalize the input feature\n",
    "    encoded_feature = normalizer(feature)\n",
    "    return encoded_feature\n",
    "\n",
    "\n",
    "# def encode_string_categorical_feature(feature, name, dataset):\n",
    "#     # Create a StringLookup layer which will turn strings into integer indices\n",
    "#     index = StringLookup()\n",
    "\n",
    "#     # Prepare a Dataset that only yields our feature\n",
    "#     feature_ds = dataset.map(lambda x, y: x[name])\n",
    "#     feature_ds = feature_ds.map(lambda x: tf.expand_dims(x, -1))\n",
    "\n",
    "#     # Learn the set of possible string values and assign them a fixed integer index\n",
    "#     index.adapt(feature_ds)\n",
    "\n",
    "#     # Turn the string input into integer indices\n",
    "#     encoded_feature = index(feature)\n",
    "\n",
    "#     # Create a CategoryEncoding for our integer indices\n",
    "#     encoder = CategoryEncoding(output_mode=\"binary\")\n",
    "\n",
    "#     # Prepare a dataset of indices\n",
    "#     feature_ds = feature_ds.map(index)\n",
    "\n",
    "#     # Learn the space of possible indices\n",
    "#     encoder.adapt(feature_ds)\n",
    "\n",
    "#     # Apply one-hot encoding to our indices\n",
    "#     encoded_feature = encoder(encoded_feature)\n",
    "#     return encoded_feature\n",
    "\n",
    "\n",
    "def encode_integer_categorical_feature(feature, name, dataset):\n",
    "    # Create a CategoryEncoding for our integer indices\n",
    "#     encoder = sklearn.preprocessing.CategoryEncoding(output_mode=\"binary\")\n",
    "    encoder = tensorflow.keras.layers.experimental.preprocessing.CategoryEncoding(output_mode=\"binary\")\n",
    "\n",
    "    # Prepare a Dataset that only yields our feature\n",
    "    feature_ds = dataset.map(lambda x, y: x[name])\n",
    "    feature_ds = feature_ds.map(lambda x: tf.expand_dims(x, -1))\n",
    "\n",
    "    # Learn the space of possible indices\n",
    "    encoder.adapt(feature_ds)\n",
    "\n",
    "    # Apply one-hot encoding to our indices\n",
    "    encoded_feature = encoder(feature)\n",
    "    return encoded_feature\n"
   ]
  },
  {
   "cell_type": "code",
   "execution_count": 9,
   "metadata": {},
   "outputs": [],
   "source": [
    "# step 7 prepare data and model\n",
    "\n",
    "height = keras.Input(shape=(1,), name=\"height\", dtype=\"int64\")\n",
    "vis = keras.Input(shape=(1,), name=\"vis\", dtype=\"int64\")\n",
    "cloud = keras.Input(shape=(1,), name=\"cloud\", dtype=\"int64\")\n",
    "w_d = keras.Input(shape=(1,), name=\"w_d\", dtype=\"int64\")\n",
    "\n",
    "# Numerical features\n",
    "w_s = keras.Input(shape=(1,), name=\"w_s\")\n",
    "temp = keras.Input(shape=(1,), name=\"temp\")\n",
    "dew = keras.Input(shape=(1,), name=\"dew\")\n",
    "pres = keras.Input(shape=(1,), name=\"pres\")\n",
    "\n",
    "all_inputs = [\n",
    "    height,\n",
    "    vis,\n",
    "    cloud,\n",
    "    w_d,\n",
    "    w_s,\n",
    "    temp,\n",
    "    dew,\n",
    "    pres,\n",
    "]\n",
    "\n",
    "# Integer categorical features\n",
    "height_encoded = encode_integer_categorical_feature(height, \"height\", train_ds)\n",
    "vis_encoded = encode_integer_categorical_feature(vis, \"vis\", train_ds)\n",
    "cloud_encoded = encode_integer_categorical_feature(cloud, \"cloud\", train_ds)\n",
    "w_d_encoded = encode_integer_categorical_feature(w_d, \"w_d\", train_ds)\n",
    "\n",
    "# String categorical features\n",
    "# thal_encoded = encode_string_categorical_feature(thal, \"thal\", train_ds)\n",
    "\n",
    "# Numerical features\n",
    "w_s_encoded = encode_numerical_feature(w_s, \"w_s\", train_ds)\n",
    "temp_encoded = encode_numerical_feature(temp, \"temp\", train_ds)\n",
    "dew_encoded = encode_numerical_feature(dew, \"dew\", train_ds)\n",
    "pres_encoded = encode_numerical_feature(pres, \"pres\", train_ds)\n",
    "\n",
    "all_features = layers.concatenate(\n",
    "    [\n",
    "        height_encoded,\n",
    "        vis_encoded,\n",
    "        cloud_encoded,\n",
    "        w_d_encoded,\n",
    "        w_s_encoded,\n",
    "        temp_encoded,\n",
    "        dew_encoded,\n",
    "        pres_encoded,\n",
    "    ]\n",
    ")\n",
    "x = layers.Dense(256, activation=\"relu\")(all_features)\n",
    "# x = layers.Dense(128, activation=\"relu\")(x)\n",
    "# x = layers.Dense(256, activation=\"relu\")(x)\n",
    "x = layers.Dropout(0.4)(x)\n",
    "# x = layers.Dropout(0.5)(x)\n",
    "# x = layers.Dense(256, activation=\"relu\")(x),\n",
    "# x = layers.Dropout(0.3)(x),\n",
    "output = layers.Dense(8, activation=\"softmax\")(x)\n",
    "model = keras.Model(all_inputs, output)\n",
    "model.compile(\"adam\", \"sparse_categorical_crossentropy\", metrics=[\"accuracy\"])"
   ]
  },
  {
   "cell_type": "code",
   "execution_count": 27,
   "metadata": {},
   "outputs": [],
   "source": [
    "# skip\n",
    "def create_model(my_learning_rate):\n",
    "  \"\"\"Create and compile a deep neural net.\"\"\"\n",
    "  \n",
    "  # All models in this course are sequential.\n",
    "  model = tf.keras.models.Sequential()\n",
    "\n",
    "  # The features are stored in a two-dimensional 28X28 array. \n",
    "  # Flatten that two-dimensional array into a a one-dimensional \n",
    "  # 784-element array.\n",
    "  model.add(tf.keras.layers.Flatten(input_shape=(28, 28)))\n",
    "\n",
    "  # Define the first hidden layer.   \n",
    "  model.add(tf.keras.layers.Dense(units=32, activation='relu'))\n",
    "  \n",
    "  # Define a dropout regularization layer. \n",
    "  model.add(tf.keras.layers.Dropout(rate=0.2))\n",
    "\n",
    "  # Define the output layer. The units parameter is set to 10 because\n",
    "  # the model must choose among 10 possible output values (representing\n",
    "  # the digits from 0 to 9, inclusive).\n",
    "  #\n",
    "  # Don't change this layer.\n",
    "  model.add(tf.keras.layers.Dense(units=10, activation='softmax'))     \n",
    "                           \n",
    "  # Construct the layers into a model that TensorFlow can execute.  \n",
    "  # Notice that the loss function for multi-class classification\n",
    "  # is different than the loss function for binary classification.  \n",
    "  model.compile(optimizer=tf.keras.optimizers.Adam(lr=my_learning_rate),\n",
    "                loss=\"sparse_categorical_crossentropy\",\n",
    "                metrics=['accuracy'])\n",
    "  \n",
    "  return model    \n",
    "\n",
    "\n",
    "def train_model(model, train_features, train_label, epochs,\n",
    "                batch_size=None, validation_split=0.1):\n",
    "  \"\"\"Train the model by feeding it data.\"\"\"\n",
    "\n",
    "  history = model.fit(x=train_features, y=train_label, batch_size=batch_size,\n",
    "                      epochs=epochs, shuffle=True, \n",
    "                      validation_split=validation_split)\n",
    " \n",
    "  # To track the progression of training, gather a snapshot\n",
    "  # of the model's metrics at each epoch. \n",
    "  epochs = history.epoch\n",
    "  hist = pd.DataFrame(history.history)\n",
    "\n",
    "  return epochs, hist    "
   ]
  },
  {
   "cell_type": "code",
   "execution_count": 20,
   "metadata": {},
   "outputs": [
    {
     "ename": "NameError",
     "evalue": "name 'x_train_normalized' is not defined",
     "output_type": "error",
     "traceback": [
      "\u001b[0;31m---------------------------------------------------------------------------\u001b[0m",
      "\u001b[0;31mNameError\u001b[0m                                 Traceback (most recent call last)",
      "\u001b[0;32m<ipython-input-20-c2c743020313>\u001b[0m in \u001b[0;36m<module>\u001b[0;34m\u001b[0m\n\u001b[1;32m      9\u001b[0m \u001b[0;34m\u001b[0m\u001b[0m\n\u001b[1;32m     10\u001b[0m \u001b[0;31m# Train the model on the normalized training set.\u001b[0m\u001b[0;34m\u001b[0m\u001b[0;34m\u001b[0m\u001b[0m\n\u001b[0;32m---> 11\u001b[0;31m epochs, hist = train_model(my_model, x_train_normalized, y_train, \n\u001b[0m\u001b[1;32m     12\u001b[0m                            epochs, batch_size, validation_split)\n\u001b[1;32m     13\u001b[0m \u001b[0;34m\u001b[0m\u001b[0m\n",
      "\u001b[0;31mNameError\u001b[0m: name 'x_train_normalized' is not defined"
     ]
    }
   ],
   "source": [
    "# skip\n",
    "# The following variables are the hyperparameters.\n",
    "learning_rate = 0.003\n",
    "epochs = 50\n",
    "batch_size = 4000\n",
    "validation_split = 0.2\n",
    "\n",
    "# Establish the model's topography.\n",
    "my_model = create_model(learning_rate)\n",
    "\n",
    "# Train the model on the normalized training set.\n",
    "epochs, hist = train_model(my_model, x_train_normalized, y_train, \n",
    "                           epochs, batch_size, validation_split)\n",
    "\n",
    "# Plot a graph of the metric vs. epochs.\n",
    "list_of_metrics_to_plot = ['accuracy']\n",
    "plot_curve(epochs, hist, list_of_metrics_to_plot)\n",
    "\n",
    "# Evaluate against the test set.\n",
    "print(\"\\n Evaluate the new model against the test set:\")\n",
    "my_model.evaluate(x=x_test_normalized, y=y_test, batch_size=batch_size)"
   ]
  },
  {
   "cell_type": "code",
   "execution_count": 10,
   "metadata": {},
   "outputs": [
    {
     "name": "stdout",
     "output_type": "stream",
     "text": [
      "Model: \"functional_1\"\n",
      "__________________________________________________________________________________________________\n",
      "Layer (type)                    Output Shape         Param #     Connected to                     \n",
      "==================================================================================================\n",
      "height (InputLayer)             [(None, 1)]          0                                            \n",
      "__________________________________________________________________________________________________\n",
      "vis (InputLayer)                [(None, 1)]          0                                            \n",
      "__________________________________________________________________________________________________\n",
      "cloud (InputLayer)              [(None, 1)]          0                                            \n",
      "__________________________________________________________________________________________________\n",
      "w_d (InputLayer)                [(None, 1)]          0                                            \n",
      "__________________________________________________________________________________________________\n",
      "w_s (InputLayer)                [(None, 1)]          0                                            \n",
      "__________________________________________________________________________________________________\n",
      "temp (InputLayer)               [(None, 1)]          0                                            \n",
      "__________________________________________________________________________________________________\n",
      "dew (InputLayer)                [(None, 1)]          0                                            \n",
      "__________________________________________________________________________________________________\n",
      "pres (InputLayer)               [(None, 1)]          0                                            \n",
      "__________________________________________________________________________________________________\n",
      "category_encoding (CategoryEnco (None, 10)           1           height[0][0]                     \n",
      "__________________________________________________________________________________________________\n",
      "category_encoding_1 (CategoryEn (None, 98)           1           vis[0][0]                        \n",
      "__________________________________________________________________________________________________\n",
      "category_encoding_2 (CategoryEn (None, 10)           1           cloud[0][0]                      \n",
      "__________________________________________________________________________________________________\n",
      "category_encoding_3 (CategoryEn (None, 37)           1           w_d[0][0]                        \n",
      "__________________________________________________________________________________________________\n",
      "normalization (Normalization)   (None, 1)            3           w_s[0][0]                        \n",
      "__________________________________________________________________________________________________\n",
      "normalization_1 (Normalization) (None, 1)            3           temp[0][0]                       \n",
      "__________________________________________________________________________________________________\n",
      "normalization_2 (Normalization) (None, 1)            3           dew[0][0]                        \n",
      "__________________________________________________________________________________________________\n",
      "normalization_3 (Normalization) (None, 1)            3           pres[0][0]                       \n",
      "__________________________________________________________________________________________________\n",
      "concatenate (Concatenate)       (None, 159)          0           category_encoding[0][0]          \n",
      "                                                                 category_encoding_1[0][0]        \n",
      "                                                                 category_encoding_2[0][0]        \n",
      "                                                                 category_encoding_3[0][0]        \n",
      "                                                                 normalization[0][0]              \n",
      "                                                                 normalization_1[0][0]            \n",
      "                                                                 normalization_2[0][0]            \n",
      "                                                                 normalization_3[0][0]            \n",
      "__________________________________________________________________________________________________\n",
      "dense (Dense)                   (None, 256)          40960       concatenate[0][0]                \n",
      "__________________________________________________________________________________________________\n",
      "dropout (Dropout)               (None, 256)          0           dense[0][0]                      \n",
      "__________________________________________________________________________________________________\n",
      "dense_1 (Dense)                 (None, 8)            2056        dropout[0][0]                    \n",
      "==================================================================================================\n",
      "Total params: 43,032\n",
      "Trainable params: 43,016\n",
      "Non-trainable params: 16\n",
      "__________________________________________________________________________________________________\n"
     ]
    }
   ],
   "source": [
    "# `rankdir='LR'` is to make the graph horizontal.\n",
    "# keras.utils.plot_model(model, show_shapes=True, rankdir=\"LR\")\n",
    "model.summary()\n",
    "# my_model.summary()"
   ]
  },
  {
   "cell_type": "code",
   "execution_count": 11,
   "metadata": {},
   "outputs": [
    {
     "name": "stdout",
     "output_type": "stream",
     "text": [
      "Epoch 1/50\n",
      "221/221 [==============================] - 1s 6ms/step - accuracy: 0.8956 - loss: 0.5183 - val_accuracy: 0.9019 - val_loss: 0.3913\n",
      "Epoch 2/50\n",
      "221/221 [==============================] - 1s 5ms/step - accuracy: 0.9108 - loss: 0.3523 - val_accuracy: 0.9019 - val_loss: 0.3681\n",
      "Epoch 3/50\n",
      "221/221 [==============================] - 1s 5ms/step - accuracy: 0.9111 - loss: 0.3384 - val_accuracy: 0.9019 - val_loss: 0.3642\n",
      "Epoch 4/50\n",
      "221/221 [==============================] - 1s 6ms/step - accuracy: 0.9108 - loss: 0.3287 - val_accuracy: 0.9019 - val_loss: 0.3505\n",
      "Epoch 5/50\n",
      "221/221 [==============================] - 1s 5ms/step - accuracy: 0.9107 - loss: 0.3268 - val_accuracy: 0.9019 - val_loss: 0.3501\n",
      "Epoch 6/50\n",
      "221/221 [==============================] - 1s 5ms/step - accuracy: 0.9115 - loss: 0.3187 - val_accuracy: 0.9019 - val_loss: 0.3524\n",
      "Epoch 7/50\n",
      "221/221 [==============================] - 1s 5ms/step - accuracy: 0.9117 - loss: 0.3141 - val_accuracy: 0.9013 - val_loss: 0.3489\n",
      "Epoch 8/50\n",
      "221/221 [==============================] - 1s 5ms/step - accuracy: 0.9112 - loss: 0.3117 - val_accuracy: 0.9013 - val_loss: 0.3571\n",
      "Epoch 9/50\n",
      "221/221 [==============================] - 1s 5ms/step - accuracy: 0.9117 - loss: 0.3086 - val_accuracy: 0.9013 - val_loss: 0.3499\n",
      "Epoch 10/50\n",
      "221/221 [==============================] - 1s 5ms/step - accuracy: 0.9115 - loss: 0.3064 - val_accuracy: 0.9013 - val_loss: 0.3513\n",
      "Epoch 11/50\n",
      "221/221 [==============================] - 1s 5ms/step - accuracy: 0.9114 - loss: 0.3039 - val_accuracy: 0.9013 - val_loss: 0.3499\n",
      "Epoch 12/50\n",
      "221/221 [==============================] - 1s 5ms/step - accuracy: 0.9112 - loss: 0.3025 - val_accuracy: 0.9019 - val_loss: 0.3471\n",
      "Epoch 13/50\n",
      "221/221 [==============================] - 1s 5ms/step - accuracy: 0.9111 - loss: 0.2993 - val_accuracy: 0.9013 - val_loss: 0.3496\n",
      "Epoch 14/50\n",
      "221/221 [==============================] - 1s 6ms/step - accuracy: 0.9112 - loss: 0.2971 - val_accuracy: 0.9007 - val_loss: 0.3501\n",
      "Epoch 15/50\n",
      "221/221 [==============================] - 1s 6ms/step - accuracy: 0.9110 - loss: 0.2907 - val_accuracy: 0.9007 - val_loss: 0.3497\n",
      "Epoch 16/50\n",
      "221/221 [==============================] - 1s 6ms/step - accuracy: 0.9114 - loss: 0.2893 - val_accuracy: 0.9019 - val_loss: 0.3526\n",
      "Epoch 17/50\n",
      "221/221 [==============================] - 1s 6ms/step - accuracy: 0.9121 - loss: 0.2892 - val_accuracy: 0.9007 - val_loss: 0.3480\n",
      "Epoch 18/50\n",
      "221/221 [==============================] - 1s 5ms/step - accuracy: 0.9139 - loss: 0.2856 - val_accuracy: 0.9013 - val_loss: 0.3616\n",
      "Epoch 19/50\n",
      "221/221 [==============================] - 1s 6ms/step - accuracy: 0.9122 - loss: 0.2838 - val_accuracy: 0.9007 - val_loss: 0.3494\n",
      "Epoch 20/50\n",
      "221/221 [==============================] - 1s 5ms/step - accuracy: 0.9127 - loss: 0.2827 - val_accuracy: 0.8985 - val_loss: 0.3524\n",
      "Epoch 21/50\n",
      "221/221 [==============================] - 1s 6ms/step - accuracy: 0.9115 - loss: 0.2800 - val_accuracy: 0.9007 - val_loss: 0.3603\n",
      "Epoch 22/50\n",
      "221/221 [==============================] - 1s 6ms/step - accuracy: 0.9139 - loss: 0.2785 - val_accuracy: 0.9002 - val_loss: 0.3675\n",
      "Epoch 23/50\n",
      "221/221 [==============================] - 1s 5ms/step - accuracy: 0.9121 - loss: 0.2777 - val_accuracy: 0.9007 - val_loss: 0.3571\n",
      "Epoch 24/50\n",
      "221/221 [==============================] - 1s 5ms/step - accuracy: 0.9125 - loss: 0.2776 - val_accuracy: 0.8985 - val_loss: 0.3540\n",
      "Epoch 25/50\n",
      "221/221 [==============================] - 1s 6ms/step - accuracy: 0.9138 - loss: 0.2739 - val_accuracy: 0.9002 - val_loss: 0.3659\n",
      "Epoch 26/50\n",
      "221/221 [==============================] - 1s 5ms/step - accuracy: 0.9135 - loss: 0.2701 - val_accuracy: 0.8996 - val_loss: 0.3555\n",
      "Epoch 27/50\n",
      "221/221 [==============================] - 1s 7ms/step - accuracy: 0.9139 - loss: 0.2692 - val_accuracy: 0.9007 - val_loss: 0.3645\n",
      "Epoch 28/50\n",
      "221/221 [==============================] - 1s 6ms/step - accuracy: 0.9152 - loss: 0.2683 - val_accuracy: 0.8990 - val_loss: 0.3622\n",
      "Epoch 29/50\n",
      "221/221 [==============================] - 1s 6ms/step - accuracy: 0.9146 - loss: 0.2633 - val_accuracy: 0.9007 - val_loss: 0.3644\n",
      "Epoch 30/50\n",
      "221/221 [==============================] - 1s 6ms/step - accuracy: 0.9139 - loss: 0.2624 - val_accuracy: 0.9019 - val_loss: 0.3635\n",
      "Epoch 31/50\n",
      "221/221 [==============================] - 1s 7ms/step - accuracy: 0.9155 - loss: 0.2612 - val_accuracy: 0.9002 - val_loss: 0.3672\n",
      "Epoch 32/50\n",
      "221/221 [==============================] - 1s 5ms/step - accuracy: 0.9141 - loss: 0.2617 - val_accuracy: 0.9007 - val_loss: 0.3714\n",
      "Epoch 33/50\n",
      "221/221 [==============================] - 1s 5ms/step - accuracy: 0.9161 - loss: 0.2582 - val_accuracy: 0.9002 - val_loss: 0.3774\n",
      "Epoch 34/50\n",
      "221/221 [==============================] - 1s 5ms/step - accuracy: 0.9176 - loss: 0.2572 - val_accuracy: 0.8996 - val_loss: 0.3716\n",
      "Epoch 35/50\n",
      "221/221 [==============================] - 1s 6ms/step - accuracy: 0.9152 - loss: 0.2561 - val_accuracy: 0.8996 - val_loss: 0.3657\n",
      "Epoch 36/50\n",
      "221/221 [==============================] - 1s 5ms/step - accuracy: 0.9142 - loss: 0.2546 - val_accuracy: 0.9002 - val_loss: 0.3656\n",
      "Epoch 37/50\n",
      "221/221 [==============================] - 1s 5ms/step - accuracy: 0.9172 - loss: 0.2501 - val_accuracy: 0.8990 - val_loss: 0.3685\n",
      "Epoch 38/50\n",
      "221/221 [==============================] - 1s 4ms/step - accuracy: 0.9149 - loss: 0.2491 - val_accuracy: 0.8985 - val_loss: 0.3750\n",
      "Epoch 39/50\n",
      "221/221 [==============================] - 1s 5ms/step - accuracy: 0.9158 - loss: 0.2495 - val_accuracy: 0.8968 - val_loss: 0.3703\n",
      "Epoch 40/50\n",
      "221/221 [==============================] - 1s 5ms/step - accuracy: 0.9151 - loss: 0.2449 - val_accuracy: 0.9002 - val_loss: 0.3784\n",
      "Epoch 41/50\n",
      "221/221 [==============================] - 1s 5ms/step - accuracy: 0.9168 - loss: 0.2434 - val_accuracy: 0.9019 - val_loss: 0.3802\n",
      "Epoch 42/50\n",
      "221/221 [==============================] - 1s 5ms/step - accuracy: 0.9176 - loss: 0.2479 - val_accuracy: 0.8990 - val_loss: 0.3711\n",
      "Epoch 43/50\n",
      "221/221 [==============================] - 1s 5ms/step - accuracy: 0.9145 - loss: 0.2432 - val_accuracy: 0.8968 - val_loss: 0.3735\n",
      "Epoch 44/50\n",
      "221/221 [==============================] - 1s 5ms/step - accuracy: 0.9144 - loss: 0.2459 - val_accuracy: 0.8962 - val_loss: 0.3799\n",
      "Epoch 45/50\n",
      "221/221 [==============================] - 1s 5ms/step - accuracy: 0.9168 - loss: 0.2415 - val_accuracy: 0.8985 - val_loss: 0.3792\n",
      "Epoch 46/50\n",
      "221/221 [==============================] - 1s 5ms/step - accuracy: 0.9154 - loss: 0.2409 - val_accuracy: 0.8968 - val_loss: 0.3735\n",
      "Epoch 47/50\n",
      "221/221 [==============================] - 1s 5ms/step - accuracy: 0.9182 - loss: 0.2391 - val_accuracy: 0.8979 - val_loss: 0.3833\n",
      "Epoch 48/50\n",
      "221/221 [==============================] - 1s 5ms/step - accuracy: 0.9193 - loss: 0.2385 - val_accuracy: 0.8996 - val_loss: 0.3779\n",
      "Epoch 49/50\n",
      "221/221 [==============================] - 1s 5ms/step - accuracy: 0.9152 - loss: 0.2382 - val_accuracy: 0.9007 - val_loss: 0.3884\n",
      "Epoch 50/50\n",
      "221/221 [==============================] - 1s 5ms/step - accuracy: 0.9188 - loss: 0.2356 - val_accuracy: 0.8973 - val_loss: 0.3808\n"
     ]
    },
    {
     "data": {
      "text/plain": [
       "<tensorflow.python.keras.callbacks.History at 0x7f3d143b0d68>"
      ]
     },
     "execution_count": 11,
     "metadata": {},
     "output_type": "execute_result"
    }
   ],
   "source": [
    "# step 8 fit model\n",
    "model.fit(train_ds, epochs=50, validation_data=val_ds)\n",
    "# my_model.fit(train_ds, epochs=50, validation_data=val_ds)\n"
   ]
  },
  {
   "cell_type": "code",
   "execution_count": 13,
   "metadata": {},
   "outputs": [
    {
     "name": "stdout",
     "output_type": "stream",
     "text": [
      "WARNING:tensorflow:From /home/slavam/my_python/my_python_env/lib/python3.5/site-packages/tensorflow/python/training/tracking/tracking.py:111: Model.state_updates (from tensorflow.python.keras.engine.training) is deprecated and will be removed in a future version.\n",
      "Instructions for updating:\n",
      "This property should not be used in TensorFlow 2.0, as updates are applied automatically.\n",
      "WARNING:tensorflow:From /home/slavam/my_python/my_python_env/lib/python3.5/site-packages/tensorflow/python/training/tracking/tracking.py:111: Layer.updates (from tensorflow.python.keras.engine.base_layer) is deprecated and will be removed in a future version.\n",
      "Instructions for updating:\n",
      "This property should not be used in TensorFlow 2.0, as updates are applied automatically.\n",
      "INFO:tensorflow:Assets written to: multistorm_donetsk_model/assets\n"
     ]
    }
   ],
   "source": [
    "model.save('multistorm_donetsk_model')"
   ]
  },
  {
   "cell_type": "code",
   "execution_count": 12,
   "metadata": {},
   "outputs": [],
   "source": [
    "# step 9 input and prepare data, prediction\n",
    "# ЩЭСИД 34519 42997 00502 10344 20157 39832 40054 58003 555 1/059=\n",
    "# ЩЭСМЮ 34519 12997 63406 10098 21009 39892 40136 52022 69902 80002 333 20086 555 10015=\n",
    "sample = {\n",
    "    \"height\": 9,\n",
    "    \"vis\": 97,\n",
    "    \"cloud\": 0,\n",
    "    \"w_d\": 5,\n",
    "    \"w_s\": 2,\n",
    "    \"temp\": 34.4,\n",
    "    \"dew\": 15.7,\n",
    "    \"pres\": 983.2\n",
    "}\n",
    "# multistorm_model = tf.keras.models.load_model('multistorm_donetsk_model')\n",
    "input_dict = {name: tf.convert_to_tensor([value]) for name, value in sample.items()}\n",
    "# predictions = multistorm_model.predict(input_dict)\n",
    "# model = tf.keras.models.load_model('multistorm_donetsk_model')\n",
    "predictions = model.predict(input_dict)"
   ]
  },
  {
   "cell_type": "code",
   "execution_count": 15,
   "metadata": {},
   "outputs": [
    {
     "data": {
      "image/png": "[encoded data removed]",
      "text/plain": [
       "<Figure size 432x288 with 1 Axes>"
      ]
     },
     "metadata": {
      "needs_background": "light"
     },
     "output_type": "display_data"
    }
   ],
   "source": [
    "# step 10 show\n",
    "import matplotlib.pyplot as plt\n",
    "# predictions\n",
    "plt.plot(np.squeeze(predictions))\n",
    "plt.ylabel('Вероятность')\n",
    "plt.xlabel('Тип опасного/стихийного явления')\n",
    "# plt.title(\"Learning rate =\" + str(learning_rate))\n",
    "plt.show()"
   ]
  },
  {
   "cell_type": "code",
   "execution_count": 16,
   "metadata": {},
   "outputs": [
    {
     "data": {
      "text/plain": [
       "<BarContainer object of 8 artists>"
      ]
     },
     "execution_count": 16,
     "metadata": {},
     "output_type": "execute_result"
    },
    {
     "data": {
      "image/png": "[encoded data removed]",
      "text/plain": [
       "<Figure size 432x288 with 1 Axes>"
      ]
     },
     "metadata": {
      "needs_background": "light"
     },
     "output_type": "display_data"
    }
   ],
   "source": [
    "# step 11 show 2\n",
    "import matplotlib.pyplot as plt\n",
    "\n",
    "storm = ('Без шторма', 'Ветер', 'Низкая облачность', 'Видимость', 'Гололед', 'Налипание мокрого снега', 'Гроза', 'Прочее')\n",
    "fig, ax = plt.subplots()\n",
    "ax.barh(storm, np.squeeze(predictions))\n",
    "\n",
    "# predictions.sum()"
   ]
  },
  {
   "cell_type": "code",
   "execution_count": null,
   "metadata": {},
   "outputs": [],
   "source": []
  }
 ],
 "metadata": {
  "kernelspec": {
   "display_name": "Python 3",
   "language": "python",
   "name": "python3"
  },
  "language_info": {
   "codemirror_mode": {
    "name": "ipython",
    "version": 3
   },
   "file_extension": ".py",
   "mimetype": "text/x-python",
   "name": "python",
   "nbconvert_exporter": "python",
   "pygments_lexer": "ipython3",
   "version": "3.5.2"
  }
 },
 "nbformat": 4,
 "nbformat_minor": 4
}
