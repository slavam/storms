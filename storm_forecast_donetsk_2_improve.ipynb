{
 "cells": [
  {
   "cell_type": "code",
   "execution_count": 1,
   "metadata": {},
   "outputs": [
    {
     "name": "stderr",
     "output_type": "stream",
     "text": [
      "2021-09-02 09:39:08.234909: I tensorflow/stream_executor/platform/default/dso_loader.cc:53] Successfully opened dynamic library libcudart.so.11.0\n"
     ]
    },
    {
     "data": {
      "text/plain": [
       "'2.5.0'"
      ]
     },
     "execution_count": 1,
     "metadata": {},
     "output_type": "execute_result"
    }
   ],
   "source": [
    "# step 1 \n",
    "import tensorflow as tf\n",
    "import numpy as np\n",
    "import pandas as pd\n",
    "from tensorflow import keras\n",
    "from tensorflow.keras import layers\n",
    "from datetime import datetime\n",
    "import time\n",
    "import matplotlib.pyplot as plt\n",
    "from tensorflow.keras.layers.experimental import preprocessing\n",
    "tf.__version__"
   ]
  },
  {
   "cell_type": "code",
   "execution_count": 42,
   "metadata": {},
   "outputs": [],
   "source": [
    "# step 2 load data\n",
    "weather = pd.read_csv('donetsk_17_21_with_storms.csv', sep=';', header=0, parse_dates=True, squeeze=True)\n",
    "# weather.head()"
   ]
  },
  {
   "cell_type": "code",
   "execution_count": 43,
   "metadata": {},
   "outputs": [],
   "source": [
    "weather['wind_direction'] = weather['wind_direction']*10\n",
    "wv = weather.pop('wind_speed')\n",
    "\n",
    "# Convert to radians.\n",
    "wd_rad = weather.pop('wind_direction')*np.pi / 180\n",
    "\n",
    "# Calculate the wind x and y components.\n",
    "weather['w_x'] = wv*np.cos(wd_rad)\n",
    "weather['w_y'] = wv*np.sin(wd_rad)"
   ]
  },
  {
   "cell_type": "code",
   "execution_count": 44,
   "metadata": {},
   "outputs": [],
   "source": [
    "date_time = pd.to_datetime(weather.pop('started_at'), format='%Y-%m-%d %H:%M:%S')\n",
    "timestamp_s = date_time.map(pd.Timestamp.timestamp)"
   ]
  },
  {
   "cell_type": "code",
   "execution_count": 45,
   "metadata": {},
   "outputs": [],
   "source": [
    "day = 24*60*60\n",
    "year = (365.2425)*day\n",
    "\n",
    "weather['day_sin'] = np.sin(timestamp_s * (2 * np.pi / day))\n",
    "weather['day_cos'] = np.cos(timestamp_s * (2 * np.pi / day))\n",
    "weather['year_sin'] = np.sin(timestamp_s * (2 * np.pi / year))\n",
    "weather['year_cos'] = np.cos(timestamp_s * (2 * np.pi / year))"
   ]
  },
  {
   "cell_type": "code",
   "execution_count": 46,
   "metadata": {},
   "outputs": [
    {
     "data": {
      "text/html": [
       "<div>\n",
       "<style scoped>\n",
       "    .dataframe tbody tr th:only-of-type {\n",
       "        vertical-align: middle;\n",
       "    }\n",
       "\n",
       "    .dataframe tbody tr th {\n",
       "        vertical-align: top;\n",
       "    }\n",
       "\n",
       "    .dataframe thead th {\n",
       "        text-align: right;\n",
       "    }\n",
       "</style>\n",
       "<table border=\"1\" class=\"dataframe\">\n",
       "  <thead>\n",
       "    <tr style=\"text-align: right;\">\n",
       "      <th></th>\n",
       "      <th>cloud_height</th>\n",
       "      <th>cloud_amount</th>\n",
       "      <th>temperature</th>\n",
       "      <th>temperature_dew</th>\n",
       "      <th>pressure</th>\n",
       "      <th>pressure_tendency</th>\n",
       "      <th>pressure_tendency_value</th>\n",
       "      <th>code</th>\n",
       "      <th>w_x</th>\n",
       "      <th>w_y</th>\n",
       "      <th>day_sin</th>\n",
       "      <th>day_cos</th>\n",
       "      <th>year_sin</th>\n",
       "      <th>year_cos</th>\n",
       "    </tr>\n",
       "  </thead>\n",
       "  <tbody>\n",
       "    <tr>\n",
       "      <th>0</th>\n",
       "      <td>5</td>\n",
       "      <td>8</td>\n",
       "      <td>14.4</td>\n",
       "      <td>13.5</td>\n",
       "      <td>989.4</td>\n",
       "      <td>7</td>\n",
       "      <td>1.3</td>\n",
       "      <td>0</td>\n",
       "      <td>0.000000</td>\n",
       "      <td>0.000000</td>\n",
       "      <td>-2.942611e-12</td>\n",
       "      <td>1.000000e+00</td>\n",
       "      <td>-0.866949</td>\n",
       "      <td>-0.498398</td>\n",
       "    </tr>\n",
       "    <tr>\n",
       "      <th>1</th>\n",
       "      <td>5</td>\n",
       "      <td>8</td>\n",
       "      <td>14.2</td>\n",
       "      <td>13.4</td>\n",
       "      <td>989.3</td>\n",
       "      <td>7</td>\n",
       "      <td>0.1</td>\n",
       "      <td>0</td>\n",
       "      <td>0.000000</td>\n",
       "      <td>0.000000</td>\n",
       "      <td>7.071068e-01</td>\n",
       "      <td>7.071068e-01</td>\n",
       "      <td>-0.868018</td>\n",
       "      <td>-0.496532</td>\n",
       "    </tr>\n",
       "    <tr>\n",
       "      <th>2</th>\n",
       "      <td>5</td>\n",
       "      <td>8</td>\n",
       "      <td>15.2</td>\n",
       "      <td>13.2</td>\n",
       "      <td>989.7</td>\n",
       "      <td>3</td>\n",
       "      <td>0.4</td>\n",
       "      <td>0</td>\n",
       "      <td>0.000000</td>\n",
       "      <td>0.000000</td>\n",
       "      <td>1.000000e+00</td>\n",
       "      <td>5.505955e-12</td>\n",
       "      <td>-0.869084</td>\n",
       "      <td>-0.494665</td>\n",
       "    </tr>\n",
       "    <tr>\n",
       "      <th>3</th>\n",
       "      <td>5</td>\n",
       "      <td>6</td>\n",
       "      <td>17.7</td>\n",
       "      <td>13.2</td>\n",
       "      <td>988.9</td>\n",
       "      <td>8</td>\n",
       "      <td>0.8</td>\n",
       "      <td>8</td>\n",
       "      <td>-0.684040</td>\n",
       "      <td>-1.879385</td>\n",
       "      <td>7.071068e-01</td>\n",
       "      <td>-7.071068e-01</td>\n",
       "      <td>-0.870146</td>\n",
       "      <td>-0.492795</td>\n",
       "    </tr>\n",
       "    <tr>\n",
       "      <th>4</th>\n",
       "      <td>5</td>\n",
       "      <td>7</td>\n",
       "      <td>16.5</td>\n",
       "      <td>13.4</td>\n",
       "      <td>989.1</td>\n",
       "      <td>3</td>\n",
       "      <td>0.2</td>\n",
       "      <td>8</td>\n",
       "      <td>-1.368081</td>\n",
       "      <td>-3.758770</td>\n",
       "      <td>8.069299e-12</td>\n",
       "      <td>-1.000000e+00</td>\n",
       "      <td>-0.871203</td>\n",
       "      <td>-0.490922</td>\n",
       "    </tr>\n",
       "  </tbody>\n",
       "</table>\n",
       "</div>"
      ],
      "text/plain": [
       "   cloud_height  cloud_amount  temperature  temperature_dew  pressure  \\\n",
       "0             5             8         14.4             13.5     989.4   \n",
       "1             5             8         14.2             13.4     989.3   \n",
       "2             5             8         15.2             13.2     989.7   \n",
       "3             5             6         17.7             13.2     988.9   \n",
       "4             5             7         16.5             13.4     989.1   \n",
       "\n",
       "   pressure_tendency  pressure_tendency_value  code       w_x       w_y  \\\n",
       "0                  7                      1.3     0  0.000000  0.000000   \n",
       "1                  7                      0.1     0  0.000000  0.000000   \n",
       "2                  3                      0.4     0  0.000000  0.000000   \n",
       "3                  8                      0.8     8 -0.684040 -1.879385   \n",
       "4                  3                      0.2     8 -1.368081 -3.758770   \n",
       "\n",
       "        day_sin       day_cos  year_sin  year_cos  \n",
       "0 -2.942611e-12  1.000000e+00 -0.866949 -0.498398  \n",
       "1  7.071068e-01  7.071068e-01 -0.868018 -0.496532  \n",
       "2  1.000000e+00  5.505955e-12 -0.869084 -0.494665  \n",
       "3  7.071068e-01 -7.071068e-01 -0.870146 -0.492795  \n",
       "4  8.069299e-12 -1.000000e+00 -0.871203 -0.490922  "
      ]
     },
     "execution_count": 46,
     "metadata": {},
     "output_type": "execute_result"
    }
   ],
   "source": [
    "weather.head()"
   ]
  },
  {
   "cell_type": "code",
   "execution_count": 47,
   "metadata": {},
   "outputs": [
    {
     "name": "stdout",
     "output_type": "stream",
     "text": [
      "Using 9088 samples for training and 2272 for validation\n"
     ]
    }
   ],
   "source": [
    "# step 3 training - validation split\n",
    "val_weather = weather.sample(frac=0.2, random_state=1337)\n",
    "train_weather = weather.drop(val_weather.index)\n",
    "\n",
    "print(\n",
    "    \"Using %d samples for training and %d for validation\"\n",
    "    % (len(train_weather), len(val_weather))\n",
    ")"
   ]
  },
  {
   "cell_type": "code",
   "execution_count": 48,
   "metadata": {},
   "outputs": [],
   "source": [
    "# step 4 transform to dataset\n",
    "def dataframe_to_dataset(dataframe):\n",
    "    dataframe = dataframe.copy()\n",
    "    labels = dataframe.pop(\"code\")\n",
    "    ds = tf.data.Dataset.from_tensor_slices((dict(dataframe), labels))\n",
    "    ds = ds.shuffle(buffer_size=len(dataframe))\n",
    "    return ds\n",
    "\n",
    "\n",
    "train_ds = dataframe_to_dataset(train_weather)\n",
    "val_ds = dataframe_to_dataset(val_weather)"
   ]
  },
  {
   "cell_type": "code",
   "execution_count": 49,
   "metadata": {},
   "outputs": [
    {
     "name": "stdout",
     "output_type": "stream",
     "text": [
      "Input: {'cloud_height': <tf.Tensor: shape=(), dtype=int64, numpy=10>, 'cloud_amount': <tf.Tensor: shape=(), dtype=int64, numpy=9>, 'temperature': <tf.Tensor: shape=(), dtype=float64, numpy=0.3>, 'temperature_dew': <tf.Tensor: shape=(), dtype=float64, numpy=0.3>, 'pressure': <tf.Tensor: shape=(), dtype=float64, numpy=976.5>, 'pressure_tendency': <tf.Tensor: shape=(), dtype=int64, numpy=8>, 'pressure_tendency_value': <tf.Tensor: shape=(), dtype=float64, numpy=0.8>, 'w_x': <tf.Tensor: shape=(), dtype=float64, numpy=0.0>, 'w_y': <tf.Tensor: shape=(), dtype=float64, numpy=0.0>, 'day_sin': <tf.Tensor: shape=(), dtype=float64, numpy=-1.0>, 'day_cos': <tf.Tensor: shape=(), dtype=float64, numpy=-1.0748247302817818e-11>, 'year_sin': <tf.Tensor: shape=(), dtype=float64, numpy=0.2529829736045368>, 'year_cos': <tf.Tensor: shape=(), dtype=float64, numpy=0.9674707308576349>}\n",
      "Target: tf.Tensor(0, shape=(), dtype=int64)\n"
     ]
    }
   ],
   "source": [
    "for x, y in train_ds.take(1):\n",
    "    print(\"Input:\", x)\n",
    "    print(\"Target:\", y)"
   ]
  },
  {
   "cell_type": "code",
   "execution_count": 50,
   "metadata": {},
   "outputs": [],
   "source": [
    "# step 5 to batch\n",
    "train_ds = train_ds.batch(32)\n",
    "val_ds = val_ds.batch(32)"
   ]
  },
  {
   "cell_type": "code",
   "execution_count": 51,
   "metadata": {},
   "outputs": [],
   "source": [
    "import tensorflow\n",
    "# from tensorflow.keras.layers import CategoryEncoding\n",
    "def encode_numerical_feature(feature, name, dataset):\n",
    "    # Create a Normalization layer for our feature\n",
    "    normalizer = preprocessing.Normalization()\n",
    "\n",
    "    # Prepare a Dataset that only yields our feature\n",
    "    feature_ds = dataset.map(lambda x, y: x[name])\n",
    "    feature_ds = feature_ds.map(lambda x: tf.expand_dims(x, -1))\n",
    "\n",
    "    # Learn the statistics of the data\n",
    "    normalizer.adapt(feature_ds)\n",
    "\n",
    "    # Normalize the input feature\n",
    "    encoded_feature = normalizer(feature)\n",
    "    return encoded_feature\n",
    "\n",
    "def encode_integer_categorical_feature(feature, name, dataset):\n",
    "    # Create a CategoryEncoding for our integer indices\n",
    "#     encoder = sklearn.preprocessing.CategoryEncoding(output_mode=\"binary\")\n",
    "#     encoder = tensorflow.keras.layers.experimental.preprocessing.CategoryEncoding(output_mode=\"binary\")\n",
    "    encoder = tf.keras.layers.experimental.preprocessing.CategoryEncoding(num_tokens=11, output_mode=\"binary\")\n",
    "\n",
    "    # Prepare a Dataset that only yields our feature\n",
    "    feature_ds = dataset.map(lambda x, y: x[name])\n",
    "    feature_ds = feature_ds.map(lambda x: tf.expand_dims(x, -1))\n",
    "\n",
    "    # Learn the space of possible indices\n",
    "    encoder.adapt(feature_ds)\n",
    "\n",
    "    # Apply one-hot encoding to our indices\n",
    "    encoded_feature = encoder(feature)\n",
    "    return encoded_feature\n",
    "# weather.head()"
   ]
  },
  {
   "cell_type": "code",
   "execution_count": 54,
   "metadata": {},
   "outputs": [],
   "source": [
    "# step 7 prepare data and model\n",
    "\n",
    "cloud_height = keras.Input(shape=(1,), name=\"cloud_height\", dtype=\"int64\")\n",
    "cloud_amount = keras.Input(shape=(1,), name=\"cloud_amount\", dtype=\"int64\")\n",
    "pressure_tendency = keras.Input(shape=(1,), name=\"pressure_tendency\", dtype=\"int64\")\n",
    "\n",
    "# Numerical features\n",
    "# w_s = keras.Input(shape=(1,), name=\"w_s\")\n",
    "temperature = keras.Input(shape=(1,), name=\"temperature\")\n",
    "temperature_dew = keras.Input(shape=(1,), name=\"temperature_dew\")\n",
    "pressure = keras.Input(shape=(1,), name=\"pressure\")\n",
    "pressure_tendency_value = keras.Input(shape=(1,), name=\"pressure_tendency_value\")\n",
    "w_x = keras.Input(shape=(1,), name=\"w_x\")\n",
    "w_y = keras.Input(shape=(1,), name=\"w_y\")\n",
    "day_sin = keras.Input(shape=(1,), name=\"day_sin\")\n",
    "day_cos = keras.Input(shape=(1,), name=\"day_cos\")\n",
    "year_sin = keras.Input(shape=(1,), name=\"year_sin\")\n",
    "year_cos = keras.Input(shape=(1,), name=\"year_cos\")\n",
    "\n",
    "all_inputs = [\n",
    "    cloud_height,\n",
    "    cloud_amount,\n",
    "    pressure_tendency,\n",
    "    temperature,\n",
    "    temperature_dew,\n",
    "    pressure,\n",
    "    pressure_tendency_value,\n",
    "    w_x,\n",
    "    w_y,\n",
    "    day_sin,\n",
    "    day_cos,\n",
    "    year_sin,\n",
    "    year_cos,\n",
    "]\n",
    "\n",
    "# Integer categorical features\n",
    "cloud_height_encoded = encode_integer_categorical_feature(cloud_height, \"cloud_height\", train_ds)\n",
    "cloud_amount_encoded = encode_integer_categorical_feature(cloud_amount, \"cloud_amount\", train_ds)\n",
    "pressure_tendency_encoded = encode_integer_categorical_feature(pressure_tendency, \"pressure_tendency\", train_ds)\n",
    "\n",
    "# String categorical features\n",
    "# thal_encoded = encode_string_categorical_feature(thal, \"thal\", train_ds)\n",
    "\n",
    "# Numerical features\n",
    "temperature_encoded = encode_numerical_feature(temperature, \"temperature\", train_ds)\n",
    "temperature_dew_encoded = encode_numerical_feature(temperature_dew, \"temperature_dew\", train_ds)\n",
    "pressure_encoded = encode_numerical_feature(pressure, \"pressure\", train_ds)\n",
    "pressure_tendency_value_encoded = encode_numerical_feature(pressure_tendency_value, \"pressure_tendency_value\", train_ds)\n",
    "w_x_encoded = encode_numerical_feature(w_x, 'w_x', train_ds)\n",
    "w_y_encoded = encode_numerical_feature(w_y, 'w_y', train_ds)\n",
    "day_sin_encoded = encode_numerical_feature(day_sin, 'day_sin', train_ds)\n",
    "day_cos_encoded = encode_numerical_feature(day_cos, 'day_cos', train_ds)\n",
    "year_sin_encoded = encode_numerical_feature(year_sin, 'year_sin', train_ds)\n",
    "year_cos_encoded = encode_numerical_feature(year_cos, 'year_cos', train_ds)\n",
    "\n",
    "all_features = layers.concatenate(\n",
    "    [\n",
    "        cloud_height_encoded,\n",
    "        cloud_amount_encoded,\n",
    "        pressure_tendency_encoded,\n",
    "        temperature_encoded,\n",
    "        temperature_dew_encoded,\n",
    "        pressure_encoded,\n",
    "        w_x_encoded,\n",
    "        w_y_encoded,\n",
    "        day_sin_encoded,\n",
    "        day_cos_encoded,\n",
    "        year_sin_encoded,\n",
    "        year_cos_encoded\n",
    "    ]\n",
    ")\n",
    "x = layers.Dense(256, activation=\"relu\")(all_features)\n",
    "x = layers.BatchNormalization()(x)\n",
    "x = layers.Dense(128, activation=\"relu\")(x)\n",
    "# x = layers.Dense(256, activation=\"relu\")(x)\n",
    "x = layers.Dropout(0.1)(x)\n",
    "# x = layers.Dropout(0.5)(x)\n",
    "# x = layers.Dense(256, activation=\"relu\")(x),\n",
    "# x = layers.Dropout(0.3)(x),\n",
    "output = layers.Dense(9, activation=\"softmax\")(x)\n",
    "model = keras.Model(all_inputs, output)\n",
    "model.compile(\"adam\", \"sparse_categorical_crossentropy\", metrics=[\"accuracy\"])"
   ]
  },
  {
   "cell_type": "code",
   "execution_count": 55,
   "metadata": {},
   "outputs": [
    {
     "name": "stdout",
     "output_type": "stream",
     "text": [
      "Model: \"model_2\"\n",
      "__________________________________________________________________________________________________\n",
      "Layer (type)                    Output Shape         Param #     Connected to                     \n",
      "==================================================================================================\n",
      "cloud_height (InputLayer)       [(None, 1)]          0                                            \n",
      "__________________________________________________________________________________________________\n",
      "cloud_amount (InputLayer)       [(None, 1)]          0                                            \n",
      "__________________________________________________________________________________________________\n",
      "pressure_tendency (InputLayer)  [(None, 1)]          0                                            \n",
      "__________________________________________________________________________________________________\n",
      "temperature (InputLayer)        [(None, 1)]          0                                            \n",
      "__________________________________________________________________________________________________\n",
      "temperature_dew (InputLayer)    [(None, 1)]          0                                            \n",
      "__________________________________________________________________________________________________\n",
      "pressure (InputLayer)           [(None, 1)]          0                                            \n",
      "__________________________________________________________________________________________________\n",
      "w_x (InputLayer)                [(None, 1)]          0                                            \n",
      "__________________________________________________________________________________________________\n",
      "w_y (InputLayer)                [(None, 1)]          0                                            \n",
      "__________________________________________________________________________________________________\n",
      "day_sin (InputLayer)            [(None, 1)]          0                                            \n",
      "__________________________________________________________________________________________________\n",
      "day_cos (InputLayer)            [(None, 1)]          0                                            \n",
      "__________________________________________________________________________________________________\n",
      "year_sin (InputLayer)           [(None, 1)]          0                                            \n",
      "__________________________________________________________________________________________________\n",
      "year_cos (InputLayer)           [(None, 1)]          0                                            \n",
      "__________________________________________________________________________________________________\n",
      "category_encoding_13 (CategoryE (None, 11)           0           cloud_height[0][0]               \n",
      "__________________________________________________________________________________________________\n",
      "category_encoding_14 (CategoryE (None, 11)           0           cloud_amount[0][0]               \n",
      "__________________________________________________________________________________________________\n",
      "category_encoding_15 (CategoryE (None, 11)           0           pressure_tendency[0][0]          \n",
      "__________________________________________________________________________________________________\n",
      "normalization_25 (Normalization (None, 1)            3           temperature[0][0]                \n",
      "__________________________________________________________________________________________________\n",
      "normalization_26 (Normalization (None, 1)            3           temperature_dew[0][0]            \n",
      "__________________________________________________________________________________________________\n",
      "normalization_27 (Normalization (None, 1)            3           pressure[0][0]                   \n",
      "__________________________________________________________________________________________________\n",
      "normalization_29 (Normalization (None, 1)            3           w_x[0][0]                        \n",
      "__________________________________________________________________________________________________\n",
      "normalization_30 (Normalization (None, 1)            3           w_y[0][0]                        \n",
      "__________________________________________________________________________________________________\n",
      "normalization_31 (Normalization (None, 1)            3           day_sin[0][0]                    \n",
      "__________________________________________________________________________________________________\n",
      "normalization_32 (Normalization (None, 1)            3           day_cos[0][0]                    \n",
      "__________________________________________________________________________________________________\n",
      "normalization_33 (Normalization (None, 1)            3           year_sin[0][0]                   \n",
      "__________________________________________________________________________________________________\n",
      "normalization_34 (Normalization (None, 1)            3           year_cos[0][0]                   \n",
      "__________________________________________________________________________________________________\n",
      "concatenate_2 (Concatenate)     (None, 42)           0           category_encoding_13[0][0]       \n",
      "                                                                 category_encoding_14[0][0]       \n",
      "                                                                 category_encoding_15[0][0]       \n",
      "                                                                 normalization_25[0][0]           \n",
      "                                                                 normalization_26[0][0]           \n",
      "                                                                 normalization_27[0][0]           \n",
      "                                                                 normalization_29[0][0]           \n",
      "                                                                 normalization_30[0][0]           \n",
      "                                                                 normalization_31[0][0]           \n",
      "                                                                 normalization_32[0][0]           \n",
      "                                                                 normalization_33[0][0]           \n",
      "                                                                 normalization_34[0][0]           \n",
      "__________________________________________________________________________________________________\n",
      "dense_6 (Dense)                 (None, 256)          11008       concatenate_2[0][0]              \n",
      "__________________________________________________________________________________________________\n",
      "batch_normalization_2 (BatchNor (None, 256)          1024        dense_6[0][0]                    \n",
      "__________________________________________________________________________________________________\n",
      "dense_7 (Dense)                 (None, 128)          32896       batch_normalization_2[0][0]      \n",
      "__________________________________________________________________________________________________\n",
      "dropout_2 (Dropout)             (None, 128)          0           dense_7[0][0]                    \n",
      "__________________________________________________________________________________________________\n",
      "pressure_tendency_value (InputL [(None, 1)]          0                                            \n",
      "__________________________________________________________________________________________________\n",
      "dense_8 (Dense)                 (None, 9)            1161        dropout_2[0][0]                  \n",
      "==================================================================================================\n",
      "Total params: 46,116\n",
      "Trainable params: 45,577\n",
      "Non-trainable params: 539\n",
      "__________________________________________________________________________________________________\n"
     ]
    }
   ],
   "source": [
    "model.summary()"
   ]
  },
  {
   "cell_type": "code",
   "execution_count": 56,
   "metadata": {},
   "outputs": [
    {
     "name": "stdout",
     "output_type": "stream",
     "text": [
      "Epoch 1/50\n",
      "284/284 [==============================] - 4s 8ms/step - loss: 0.4872 - accuracy: 0.8792 - val_loss: 0.4847 - val_accuracy: 0.8939\n",
      "Epoch 2/50\n",
      "284/284 [==============================] - 2s 7ms/step - loss: 0.3685 - accuracy: 0.8990 - val_loss: 0.3923 - val_accuracy: 0.9005\n",
      "Epoch 3/50\n",
      "284/284 [==============================] - 2s 6ms/step - loss: 0.3409 - accuracy: 0.8994 - val_loss: 0.3656 - val_accuracy: 0.9036\n",
      "Epoch 4/50\n",
      "284/284 [==============================] - 2s 6ms/step - loss: 0.3212 - accuracy: 0.9014 - val_loss: 0.3622 - val_accuracy: 0.8996\n",
      "Epoch 5/50\n",
      "284/284 [==============================] - 2s 8ms/step - loss: 0.3063 - accuracy: 0.9043 - val_loss: 0.3680 - val_accuracy: 0.8917\n",
      "Epoch 6/50\n",
      "284/284 [==============================] - 2s 6ms/step - loss: 0.2977 - accuracy: 0.9055 - val_loss: 0.3656 - val_accuracy: 0.9036\n",
      "Epoch 7/50\n",
      "284/284 [==============================] - 2s 6ms/step - loss: 0.2843 - accuracy: 0.9066 - val_loss: 0.3749 - val_accuracy: 0.8970\n",
      "Epoch 8/50\n",
      "284/284 [==============================] - 2s 6ms/step - loss: 0.2783 - accuracy: 0.9074 - val_loss: 0.3765 - val_accuracy: 0.8926\n",
      "Epoch 9/50\n",
      "284/284 [==============================] - 2s 7ms/step - loss: 0.2711 - accuracy: 0.9087 - val_loss: 0.3909 - val_accuracy: 0.8966\n",
      "Epoch 10/50\n",
      "284/284 [==============================] - 2s 6ms/step - loss: 0.2567 - accuracy: 0.9127 - val_loss: 0.3947 - val_accuracy: 0.8891\n",
      "Epoch 11/50\n",
      "284/284 [==============================] - 2s 6ms/step - loss: 0.2514 - accuracy: 0.9116 - val_loss: 0.3981 - val_accuracy: 0.8939\n",
      "Epoch 12/50\n",
      "284/284 [==============================] - 2s 6ms/step - loss: 0.2403 - accuracy: 0.9143 - val_loss: 0.4056 - val_accuracy: 0.8926\n",
      "Epoch 13/50\n",
      "284/284 [==============================] - 2s 6ms/step - loss: 0.2286 - accuracy: 0.9151 - val_loss: 0.4130 - val_accuracy: 0.8856\n",
      "Epoch 14/50\n",
      "284/284 [==============================] - 2s 6ms/step - loss: 0.2258 - accuracy: 0.9189 - val_loss: 0.4238 - val_accuracy: 0.8860\n",
      "Epoch 15/50\n",
      "284/284 [==============================] - 2s 6ms/step - loss: 0.2214 - accuracy: 0.9149 - val_loss: 0.4469 - val_accuracy: 0.8930\n",
      "Epoch 16/50\n",
      "284/284 [==============================] - 2s 6ms/step - loss: 0.2074 - accuracy: 0.9225 - val_loss: 0.4358 - val_accuracy: 0.8891\n",
      "Epoch 17/50\n",
      "284/284 [==============================] - 2s 7ms/step - loss: 0.1984 - accuracy: 0.9265 - val_loss: 0.4631 - val_accuracy: 0.8820\n",
      "Epoch 18/50\n",
      "284/284 [==============================] - 2s 6ms/step - loss: 0.1951 - accuracy: 0.9242 - val_loss: 0.4672 - val_accuracy: 0.8825\n",
      "Epoch 19/50\n",
      "284/284 [==============================] - 2s 6ms/step - loss: 0.1920 - accuracy: 0.9285 - val_loss: 0.4638 - val_accuracy: 0.8746\n",
      "Epoch 20/50\n",
      "284/284 [==============================] - 2s 6ms/step - loss: 0.1834 - accuracy: 0.9289 - val_loss: 0.4798 - val_accuracy: 0.8790\n",
      "Epoch 21/50\n",
      "284/284 [==============================] - 2s 6ms/step - loss: 0.1753 - accuracy: 0.9351 - val_loss: 0.5036 - val_accuracy: 0.8939\n",
      "Epoch 22/50\n",
      "284/284 [==============================] - 2s 6ms/step - loss: 0.1713 - accuracy: 0.9347 - val_loss: 0.4967 - val_accuracy: 0.8891\n",
      "Epoch 23/50\n",
      "284/284 [==============================] - 2s 6ms/step - loss: 0.1700 - accuracy: 0.9347 - val_loss: 0.5103 - val_accuracy: 0.8838\n",
      "Epoch 24/50\n",
      "284/284 [==============================] - 2s 6ms/step - loss: 0.1653 - accuracy: 0.9351 - val_loss: 0.5197 - val_accuracy: 0.8812\n",
      "Epoch 25/50\n",
      "284/284 [==============================] - 2s 6ms/step - loss: 0.1576 - accuracy: 0.9407 - val_loss: 0.5311 - val_accuracy: 0.8842\n",
      "Epoch 26/50\n",
      "284/284 [==============================] - 2s 6ms/step - loss: 0.1491 - accuracy: 0.9422 - val_loss: 0.5501 - val_accuracy: 0.8864\n",
      "Epoch 27/50\n",
      "284/284 [==============================] - 2s 6ms/step - loss: 0.1508 - accuracy: 0.9417 - val_loss: 0.5626 - val_accuracy: 0.8741\n",
      "Epoch 28/50\n",
      "284/284 [==============================] - 2s 6ms/step - loss: 0.1470 - accuracy: 0.9405 - val_loss: 0.5973 - val_accuracy: 0.8680\n",
      "Epoch 29/50\n",
      "284/284 [==============================] - 2s 6ms/step - loss: 0.1430 - accuracy: 0.9460 - val_loss: 0.5842 - val_accuracy: 0.8816\n",
      "Epoch 30/50\n",
      "284/284 [==============================] - 2s 6ms/step - loss: 0.1418 - accuracy: 0.9449 - val_loss: 0.6229 - val_accuracy: 0.8706\n",
      "Epoch 31/50\n",
      "284/284 [==============================] - 2s 6ms/step - loss: 0.1310 - accuracy: 0.9476 - val_loss: 0.6202 - val_accuracy: 0.8776\n",
      "Epoch 32/50\n",
      "284/284 [==============================] - 2s 6ms/step - loss: 0.1245 - accuracy: 0.9497 - val_loss: 0.6395 - val_accuracy: 0.8842\n",
      "Epoch 33/50\n",
      "284/284 [==============================] - 2s 6ms/step - loss: 0.1312 - accuracy: 0.9491 - val_loss: 0.6393 - val_accuracy: 0.8644\n",
      "Epoch 34/50\n",
      "284/284 [==============================] - 2s 6ms/step - loss: 0.1386 - accuracy: 0.9450 - val_loss: 0.6112 - val_accuracy: 0.8710\n",
      "Epoch 35/50\n",
      "284/284 [==============================] - 2s 6ms/step - loss: 0.1215 - accuracy: 0.9527 - val_loss: 0.6600 - val_accuracy: 0.8790\n",
      "Epoch 36/50\n",
      "284/284 [==============================] - 2s 6ms/step - loss: 0.1170 - accuracy: 0.9540 - val_loss: 0.6555 - val_accuracy: 0.8763\n",
      "Epoch 37/50\n",
      "284/284 [==============================] - 2s 6ms/step - loss: 0.1164 - accuracy: 0.9542 - val_loss: 0.6713 - val_accuracy: 0.8759\n",
      "Epoch 38/50\n",
      "284/284 [==============================] - 2s 6ms/step - loss: 0.1144 - accuracy: 0.9551 - val_loss: 0.6900 - val_accuracy: 0.8741\n",
      "Epoch 39/50\n",
      "284/284 [==============================] - 2s 6ms/step - loss: 0.1130 - accuracy: 0.9570 - val_loss: 0.6954 - val_accuracy: 0.8724\n",
      "Epoch 40/50\n",
      "284/284 [==============================] - 2s 6ms/step - loss: 0.1109 - accuracy: 0.9559 - val_loss: 0.7289 - val_accuracy: 0.8737\n",
      "Epoch 41/50\n",
      "284/284 [==============================] - 2s 6ms/step - loss: 0.1044 - accuracy: 0.9601 - val_loss: 0.7238 - val_accuracy: 0.8658\n",
      "Epoch 42/50\n",
      "284/284 [==============================] - 2s 6ms/step - loss: 0.1043 - accuracy: 0.9587 - val_loss: 0.7255 - val_accuracy: 0.8737\n",
      "Epoch 43/50\n",
      "284/284 [==============================] - 2s 6ms/step - loss: 0.1051 - accuracy: 0.9593 - val_loss: 0.7602 - val_accuracy: 0.8759\n",
      "Epoch 44/50\n",
      "284/284 [==============================] - 2s 6ms/step - loss: 0.1040 - accuracy: 0.9624 - val_loss: 0.6981 - val_accuracy: 0.8622\n",
      "Epoch 45/50\n",
      "284/284 [==============================] - 2s 6ms/step - loss: 0.1039 - accuracy: 0.9598 - val_loss: 0.7532 - val_accuracy: 0.8754\n",
      "Epoch 46/50\n",
      "284/284 [==============================] - 2s 6ms/step - loss: 0.0993 - accuracy: 0.9615 - val_loss: 0.7388 - val_accuracy: 0.8741\n",
      "Epoch 47/50\n",
      "284/284 [==============================] - 2s 6ms/step - loss: 0.0984 - accuracy: 0.9632 - val_loss: 0.7474 - val_accuracy: 0.8662\n",
      "Epoch 48/50\n",
      "284/284 [==============================] - 2s 6ms/step - loss: 0.0944 - accuracy: 0.9632 - val_loss: 0.7788 - val_accuracy: 0.8781\n",
      "Epoch 49/50\n",
      "284/284 [==============================] - 2s 6ms/step - loss: 0.0955 - accuracy: 0.9656 - val_loss: 0.7843 - val_accuracy: 0.8728\n",
      "Epoch 50/50\n",
      "284/284 [==============================] - 2s 6ms/step - loss: 0.0936 - accuracy: 0.9639 - val_loss: 0.8312 - val_accuracy: 0.8776\n"
     ]
    },
    {
     "data": {
      "text/plain": [
       "<tensorflow.python.keras.callbacks.History at 0x7fd0d5eab820>"
      ]
     },
     "execution_count": 56,
     "metadata": {},
     "output_type": "execute_result"
    }
   ],
   "source": [
    "# step 8 fit model\n",
    "model.fit(train_ds, epochs=50, validation_data=val_ds)"
   ]
  },
  {
   "cell_type": "code",
   "execution_count": 15,
   "metadata": {},
   "outputs": [
    {
     "name": "stdout",
     "output_type": "stream",
     "text": [
      "WARNING:tensorflow:From /home/slavam/my_python/my_python_env/lib/python3.5/site-packages/tensorflow/python/training/tracking/tracking.py:111: Model.state_updates (from tensorflow.python.keras.engine.training) is deprecated and will be removed in a future version.\n",
      "Instructions for updating:\n",
      "This property should not be used in TensorFlow 2.0, as updates are applied automatically.\n",
      "WARNING:tensorflow:From /home/slavam/my_python/my_python_env/lib/python3.5/site-packages/tensorflow/python/training/tracking/tracking.py:111: Layer.updates (from tensorflow.python.keras.engine.base_layer) is deprecated and will be removed in a future version.\n",
      "Instructions for updating:\n",
      "This property should not be used in TensorFlow 2.0, as updates are applied automatically.\n",
      "INFO:tensorflow:Assets written to: multistorm_donetsk_model/assets\n"
     ]
    }
   ],
   "source": [
    "model.save('multistorm_donetsk_model')\n",
    "# test_results = {}\n",
    "# test_results['dnn_model'] = model.evaluate(test_ds, test_labels, verbose=0)"
   ]
  },
  {
   "cell_type": "code",
   "execution_count": 57,
   "metadata": {},
   "outputs": [],
   "source": [
    "def prepare_data(date_term, telegram, model_name):\n",
    "    ret = {}\n",
    "    ret['cloud_height'] = int(telegram[14:15])\n",
    "    ret['cloud_amount'] = int(telegram[18:19])\n",
    "    ret['pressure_tendency'] = int(telegram[49:50])\n",
    "    sign = ''\n",
    "    if telegram[25:26] == '1':\n",
    "        sign = '-'\n",
    "    ret['temperature'] = float(sign+telegram[26:28]+'.'+telegram[28:29])\n",
    "    sign = ''\n",
    "    if telegram[31:32] == '1':\n",
    "        sign = '-'\n",
    "    ret['temperature_dew'] = float(sign+telegram[32:34]+'.'+telegram[34:35])\n",
    "    p1 = '1'\n",
    "    if telegram[37:38] != '0':\n",
    "        p1 = ''\n",
    "    ret['pressure'] = float(p1+telegram[37:40]+'.'+telegram[40:41])\n",
    "    ret['pressure_tendency_value'] = float(telegram[50:52]+'.'+telegram[52:53])\n",
    "    wv = float(telegram[21:23]+'.')\n",
    "    wd_rad = int(telegram[19:21])*10*np.pi/180\n",
    "    ret['w_x'] = wv*np.cos(wd_rad)\n",
    "    ret['w_y'] = wv*np.sin(wd_rad)\n",
    "    d = datetime.strptime(date_term, \"%Y-%m-%d %H:%M:%S\")\n",
    "    s = time.mktime(d.timetuple())\n",
    "    day = 24*60*60\n",
    "    year = (365.2425)*day\n",
    "    ret['day_sin'] = np.sin(s * (2 * np.pi / day))\n",
    "    ret['day_cos'] = np.cos(s * (2 * np.pi / day))\n",
    "    ret['year_sin'] = np.sin(s * (2 * np.pi / year))\n",
    "    ret['year_cos'] = np.cos(s * (2 * np.pi / year))\n",
    "    input_dict = {name: tf.convert_to_tensor([value]) for name, value in ret.items()}\n",
    "#     model = tf.keras.models.load_model(model_name)\n",
    "    predictions = model.predict(input_dict)\n",
    "    \n",
    "    return predictions\n",
    "\n",
    "d_t = '2021-09-02 06:00:00'\n",
    "telegram = 'ЩЭСМЮ 34519 11697 72304 10190 20149 39800 40032 57013 69962 72511 87900 333 20164 555 11022='\n",
    "predictions = prepare_data(d_t, telegram, 'multistorm_donetsk_model')\n",
    "# predictions"
   ]
  },
  {
   "cell_type": "code",
   "execution_count": 58,
   "metadata": {},
   "outputs": [
    {
     "data": {
      "image/png": "[encoded data removed]",
      "text/plain": [
       "<Figure size 432x288 with 1 Axes>"
      ]
     },
     "metadata": {
      "needs_background": "light"
     },
     "output_type": "display_data"
    }
   ],
   "source": [
    "plt.plot(np.squeeze(predictions))\n",
    "plt.ylabel('Вероятность')\n",
    "plt.xlabel('Тип опасного/стихийного явления')\n",
    "# plt.title(\"Learning rate =\" + str(learning_rate))\n",
    "plt.show()"
   ]
  },
  {
   "cell_type": "code",
   "execution_count": 59,
   "metadata": {},
   "outputs": [
    {
     "data": {
      "text/plain": [
       "<BarContainer object of 9 artists>"
      ]
     },
     "execution_count": 59,
     "metadata": {},
     "output_type": "execute_result"
    },
    {
     "data": {
      "image/png": "[encoded data removed]",
      "text/plain": [
       "<Figure size 432x288 with 1 Axes>"
      ]
     },
     "metadata": {
      "needs_background": "light"
     },
     "output_type": "display_data"
    }
   ],
   "source": [
    "storm = ('Без шторма', 'Ветер', 'Низкая облачность', 'Видимость', 'Гололед', 'Сложные отложения', 'Налипание мокрого снега', 'Град', 'Гроза')\n",
    "fig, ax = plt.subplots()\n",
    "ax.barh(storm, np.squeeze(predictions))"
   ]
  },
  {
   "cell_type": "code",
   "execution_count": 17,
   "metadata": {},
   "outputs": [
    {
     "data": {
      "text/plain": [
       "array([[6.5542434e-28, 1.0000000e+00, 0.0000000e+00, 0.0000000e+00,\n",
       "        0.0000000e+00, 0.0000000e+00, 0.0000000e+00, 0.0000000e+00,\n",
       "        0.0000000e+00]], dtype=float32)"
      ]
     },
     "execution_count": 17,
     "metadata": {},
     "output_type": "execute_result"
    }
   ],
   "source": [
    "predictions"
   ]
  },
  {
   "cell_type": "code",
   "execution_count": 19,
   "metadata": {},
   "outputs": [
    {
     "name": "stdout",
     "output_type": "stream",
     "text": [
      "Max Value of Action ->  -0.003\n"
     ]
    }
   ],
   "source": [
    "print(\"Max Value of Action ->  {}\".format(-3e-3))"
   ]
  },
  {
   "cell_type": "code",
   "execution_count": null,
   "metadata": {},
   "outputs": [],
   "source": []
  }
 ],
 "metadata": {
  "kernelspec": {
   "display_name": "Python 3",
   "language": "python",
   "name": "python3"
  },
  "language_info": {
   "codemirror_mode": {
    "name": "ipython",
    "version": 3
   },
   "file_extension": ".py",
   "mimetype": "text/x-python",
   "name": "python",
   "nbconvert_exporter": "python",
   "pygments_lexer": "ipython3",
   "version": "3.8.9"
  }
 },
 "nbformat": 4,
 "nbformat_minor": 4
}
